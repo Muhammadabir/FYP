{
 "cells": [
  {
   "cell_type": "code",
   "execution_count": 1,
   "id": "b6ab5d36",
   "metadata": {},
   "outputs": [
    {
     "name": "stdout",
     "output_type": "stream",
     "text": [
      "Requirement already satisfied: imbalanced-learn in c:\\users\\abirm\\envs\\acceptance_venv\\lib\\site-packages (0.9.0)\n",
      "Requirement already satisfied: scipy>=1.1.0 in c:\\users\\abirm\\envs\\acceptance_venv\\lib\\site-packages (from imbalanced-learn) (1.8.0)\n",
      "Requirement already satisfied: numpy>=1.14.6 in c:\\users\\abirm\\envs\\acceptance_venv\\lib\\site-packages (from imbalanced-learn) (1.22.3)\n",
      "Requirement already satisfied: scikit-learn>=1.0.1 in c:\\users\\abirm\\envs\\acceptance_venv\\lib\\site-packages (from imbalanced-learn) (1.0.2)\n",
      "Requirement already satisfied: joblib>=0.11 in c:\\users\\abirm\\envs\\acceptance_venv\\lib\\site-packages (from imbalanced-learn) (1.1.0)\n",
      "Requirement already satisfied: threadpoolctl>=2.0.0 in c:\\users\\abirm\\envs\\acceptance_venv\\lib\\site-packages (from imbalanced-learn) (3.1.0)\n",
      "Note: you may need to restart the kernel to use updated packages.\n"
     ]
    }
   ],
   "source": [
    "%pip install -U imbalanced-learn"
   ]
  },
  {
   "cell_type": "code",
   "execution_count": 2,
   "id": "b86740df",
   "metadata": {},
   "outputs": [
    {
     "name": "stdout",
     "output_type": "stream",
     "text": [
      "Requirement already satisfied: category_encoders in c:\\users\\abirm\\envs\\acceptance_venv\\lib\\site-packages (2.4.0)\n",
      "Requirement already satisfied: scikit-learn>=0.20.0 in c:\\users\\abirm\\envs\\acceptance_venv\\lib\\site-packages (from category_encoders) (1.0.2)\n",
      "Requirement already satisfied: numpy>=1.14.0 in c:\\users\\abirm\\envs\\acceptance_venv\\lib\\site-packages (from category_encoders) (1.22.3)\n",
      "Requirement already satisfied: statsmodels>=0.9.0 in c:\\users\\abirm\\envs\\acceptance_venv\\lib\\site-packages (from category_encoders) (0.13.2)\n",
      "Requirement already satisfied: patsy>=0.5.1 in c:\\users\\abirm\\envs\\acceptance_venv\\lib\\site-packages (from category_encoders) (0.5.2)\n",
      "Requirement already satisfied: scipy>=1.0.0 in c:\\users\\abirm\\envs\\acceptance_venv\\lib\\site-packages (from category_encoders) (1.8.0)\n",
      "Requirement already satisfied: pandas>=0.21.1 in c:\\users\\abirm\\envs\\acceptance_venv\\lib\\site-packages (from category_encoders) (1.4.2)\n",
      "Requirement already satisfied: python-dateutil>=2.8.1 in c:\\users\\abirm\\envs\\acceptance_venv\\lib\\site-packages (from pandas>=0.21.1->category_encoders) (2.8.2)\n",
      "Requirement already satisfied: pytz>=2020.1 in c:\\users\\abirm\\envs\\acceptance_venv\\lib\\site-packages (from pandas>=0.21.1->category_encoders) (2022.1)\n",
      "Requirement already satisfied: six in c:\\users\\abirm\\envs\\acceptance_venv\\lib\\site-packages (from patsy>=0.5.1->category_encoders) (1.16.0)\n",
      "Requirement already satisfied: threadpoolctl>=2.0.0 in c:\\users\\abirm\\envs\\acceptance_venv\\lib\\site-packages (from scikit-learn>=0.20.0->category_encoders) (3.1.0)\n",
      "Requirement already satisfied: joblib>=0.11 in c:\\users\\abirm\\envs\\acceptance_venv\\lib\\site-packages (from scikit-learn>=0.20.0->category_encoders) (1.1.0)\n",
      "Requirement already satisfied: packaging>=21.3 in c:\\users\\abirm\\envs\\acceptance_venv\\lib\\site-packages (from statsmodels>=0.9.0->category_encoders) (21.3)\n",
      "Requirement already satisfied: pyparsing!=3.0.5,>=2.0.2 in c:\\users\\abirm\\envs\\acceptance_venv\\lib\\site-packages (from packaging>=21.3->statsmodels>=0.9.0->category_encoders) (3.0.7)\n",
      "Note: you may need to restart the kernel to use updated packages.\n"
     ]
    }
   ],
   "source": [
    "%pip install category_encoders"
   ]
  },
  {
   "cell_type": "code",
   "execution_count": 3,
   "id": "e8d218c6",
   "metadata": {},
   "outputs": [
    {
     "name": "stdout",
     "output_type": "stream",
     "text": [
      "Requirement already satisfied: sklearn in c:\\users\\abirm\\envs\\acceptance_venv\\lib\\site-packages (0.0)\n",
      "Requirement already satisfied: scikit-learn in c:\\users\\abirm\\envs\\acceptance_venv\\lib\\site-packages (from sklearn) (1.0.2)\n",
      "Requirement already satisfied: joblib>=0.11 in c:\\users\\abirm\\envs\\acceptance_venv\\lib\\site-packages (from scikit-learn->sklearn) (1.1.0)\n",
      "Requirement already satisfied: numpy>=1.14.6 in c:\\users\\abirm\\envs\\acceptance_venv\\lib\\site-packages (from scikit-learn->sklearn) (1.22.3)\n",
      "Requirement already satisfied: threadpoolctl>=2.0.0 in c:\\users\\abirm\\envs\\acceptance_venv\\lib\\site-packages (from scikit-learn->sklearn) (3.1.0)\n",
      "Requirement already satisfied: scipy>=1.1.0 in c:\\users\\abirm\\envs\\acceptance_venv\\lib\\site-packages (from scikit-learn->sklearn) (1.8.0)\n",
      "Note: you may need to restart the kernel to use updated packages.\n"
     ]
    }
   ],
   "source": [
    "%pip install sklearn"
   ]
  },
  {
   "cell_type": "code",
   "execution_count": 4,
   "id": "413cc882",
   "metadata": {},
   "outputs": [
    {
     "name": "stdout",
     "output_type": "stream",
     "text": [
      "Requirement already satisfied: seaborn in c:\\users\\abirm\\envs\\acceptance_venv\\lib\\site-packages (0.11.2)\n",
      "Requirement already satisfied: pandas>=0.23 in c:\\users\\abirm\\envs\\acceptance_venv\\lib\\site-packages (from seaborn) (1.4.2)\n",
      "Requirement already satisfied: scipy>=1.0 in c:\\users\\abirm\\envs\\acceptance_venv\\lib\\site-packages (from seaborn) (1.8.0)\n",
      "Requirement already satisfied: numpy>=1.15 in c:\\users\\abirm\\envs\\acceptance_venv\\lib\\site-packages (from seaborn) (1.22.3)\n",
      "Requirement already satisfied: matplotlib>=2.2 in c:\\users\\abirm\\envs\\acceptance_venv\\lib\\site-packages (from seaborn) (3.5.1)\n",
      "Requirement already satisfied: pillow>=6.2.0 in c:\\users\\abirm\\envs\\acceptance_venv\\lib\\site-packages (from matplotlib>=2.2->seaborn) (9.1.0)\n",
      "Requirement already satisfied: kiwisolver>=1.0.1 in c:\\users\\abirm\\envs\\acceptance_venv\\lib\\site-packages (from matplotlib>=2.2->seaborn) (1.4.2)\n",
      "Requirement already satisfied: python-dateutil>=2.7 in c:\\users\\abirm\\envs\\acceptance_venv\\lib\\site-packages (from matplotlib>=2.2->seaborn) (2.8.2)\n",
      "Requirement already satisfied: fonttools>=4.22.0 in c:\\users\\abirm\\envs\\acceptance_venv\\lib\\site-packages (from matplotlib>=2.2->seaborn) (4.32.0)\n",
      "Requirement already satisfied: pyparsing>=2.2.1 in c:\\users\\abirm\\envs\\acceptance_venv\\lib\\site-packages (from matplotlib>=2.2->seaborn) (3.0.7)\n",
      "Requirement already satisfied: cycler>=0.10 in c:\\users\\abirm\\envs\\acceptance_venv\\lib\\site-packages (from matplotlib>=2.2->seaborn) (0.11.0)\n",
      "Requirement already satisfied: packaging>=20.0 in c:\\users\\abirm\\envs\\acceptance_venv\\lib\\site-packages (from matplotlib>=2.2->seaborn) (21.3)\n",
      "Requirement already satisfied: pytz>=2020.1 in c:\\users\\abirm\\envs\\acceptance_venv\\lib\\site-packages (from pandas>=0.23->seaborn) (2022.1)\n",
      "Requirement already satisfied: six>=1.5 in c:\\users\\abirm\\envs\\acceptance_venv\\lib\\site-packages (from python-dateutil>=2.7->matplotlib>=2.2->seaborn) (1.16.0)\n"
     ]
    }
   ],
   "source": [
    "!pip install seaborn"
   ]
  },
  {
   "cell_type": "code",
   "execution_count": 5,
   "id": "bad051ad",
   "metadata": {},
   "outputs": [],
   "source": [
    "#Importing Libraries"
   ]
  },
  {
   "cell_type": "code",
   "execution_count": 6,
   "id": "1d5e6a0d",
   "metadata": {},
   "outputs": [],
   "source": [
    "import pandas as pd\n",
    "import numpy as np\n",
    "import math\n",
    "import io\n",
    "import category_encoders as ce\n",
    "from category_encoders import *\n",
    "import sklearn\n",
    "from sklearn.preprocessing import LabelEncoder\n",
    "from sklearn.preprocessing import OneHotEncoder\n",
    "from sklearn.multioutput import MultiOutputClassifier\n",
    "from sklearn.linear_model import LogisticRegression\n",
    "from sklearn.tree import DecisionTreeClassifier\n",
    "from sklearn.neighbors import KNeighborsClassifier\n",
    "from sklearn.naive_bayes import MultinomialNB\n",
    "from sklearn.feature_extraction.text import CountVectorizer, TfidfTransformer\n",
    "from sklearn.model_selection import train_test_split\n",
    "from sklearn.pipeline import Pipeline\n",
    "from sklearn.metrics import accuracy_score, classification_report, confusion_matrix, multilabel_confusion_matrix, precision_recall_fscore_support, plot_roc_curve, plot_confusion_matrix, plot_precision_recall_curve, plot_det_curve\n",
    "import matplotlib.pyplot as plt\n",
    "import seaborn as sns\n",
    "from imblearn.under_sampling import RandomUnderSampler\n",
    "from imblearn.over_sampling import RandomOverSampler"
   ]
  },
  {
   "cell_type": "code",
   "execution_count": 7,
   "id": "71fdc8fa",
   "metadata": {},
   "outputs": [],
   "source": [
    "#Importing the CSV file without the Unnamed:0 and checking the columns and datatypes and null values-"
   ]
  },
  {
   "cell_type": "code",
   "execution_count": 8,
   "id": "111ce79b",
   "metadata": {},
   "outputs": [],
   "source": [
    "filename = (\"refugee_acceptance_dataset.csv\")"
   ]
  },
  {
   "cell_type": "code",
   "execution_count": 9,
   "id": "018e14e7",
   "metadata": {},
   "outputs": [],
   "source": [
    "df = pd.read_csv(filename, index_col=0)"
   ]
  },
  {
   "cell_type": "code",
   "execution_count": 38,
   "id": "07c12881",
   "metadata": {},
   "outputs": [
    {
     "name": "stdout",
     "output_type": "stream",
     "text": [
      "<class 'pandas.core.frame.DataFrame'>\n",
      "Int64Index: 100000 entries, 0 to 99999\n",
      "Data columns (total 4 columns):\n",
      " #   Column                                      Non-Null Count   Dtype \n",
      "---  ------                                      --------------   ----- \n",
      " 0   language                                    100000 non-null  object\n",
      " 1   education_level                             100000 non-null  object\n",
      " 2   last_occupation                             100000 non-null  object\n",
      " 3   qualified_for_unhcr_mandatory_contribution  100000 non-null  object\n",
      "dtypes: object(4)\n",
      "memory usage: 3.8+ MB\n"
     ]
    }
   ],
   "source": [
    "df.info()"
   ]
  },
  {
   "cell_type": "code",
   "execution_count": 39,
   "id": "060b8441",
   "metadata": {},
   "outputs": [
    {
     "data": {
      "text/html": [
       "<div>\n",
       "<style scoped>\n",
       "    .dataframe tbody tr th:only-of-type {\n",
       "        vertical-align: middle;\n",
       "    }\n",
       "\n",
       "    .dataframe tbody tr th {\n",
       "        vertical-align: top;\n",
       "    }\n",
       "\n",
       "    .dataframe thead th {\n",
       "        text-align: right;\n",
       "    }\n",
       "</style>\n",
       "<table border=\"1\" class=\"dataframe\">\n",
       "  <thead>\n",
       "    <tr style=\"text-align: right;\">\n",
       "      <th></th>\n",
       "      <th>language</th>\n",
       "      <th>education_level</th>\n",
       "      <th>last_occupation</th>\n",
       "      <th>qualified_for_unhcr_mandatory_contribution</th>\n",
       "    </tr>\n",
       "  </thead>\n",
       "  <tbody>\n",
       "    <tr>\n",
       "      <th>0</th>\n",
       "      <td>Native + French</td>\n",
       "      <td>High School</td>\n",
       "      <td>Not employed</td>\n",
       "      <td>not accepted</td>\n",
       "    </tr>\n",
       "    <tr>\n",
       "      <th>1</th>\n",
       "      <td>Native + English</td>\n",
       "      <td>High School</td>\n",
       "      <td>Construction Worker</td>\n",
       "      <td>not accepted</td>\n",
       "    </tr>\n",
       "    <tr>\n",
       "      <th>2</th>\n",
       "      <td>Native</td>\n",
       "      <td>Primary</td>\n",
       "      <td>Mechanic</td>\n",
       "      <td>not accepted</td>\n",
       "    </tr>\n",
       "    <tr>\n",
       "      <th>3</th>\n",
       "      <td>Native + English</td>\n",
       "      <td>Primary</td>\n",
       "      <td>Mechanic</td>\n",
       "      <td>not accepted</td>\n",
       "    </tr>\n",
       "    <tr>\n",
       "      <th>4</th>\n",
       "      <td>Native + English</td>\n",
       "      <td>High School</td>\n",
       "      <td>Not employed</td>\n",
       "      <td>not accepted</td>\n",
       "    </tr>\n",
       "  </tbody>\n",
       "</table>\n",
       "</div>"
      ],
      "text/plain": [
       "           language education_level      last_occupation  \\\n",
       "0   Native + French     High School         Not employed   \n",
       "1  Native + English     High School  Construction Worker   \n",
       "2            Native         Primary             Mechanic   \n",
       "3  Native + English         Primary             Mechanic   \n",
       "4  Native + English     High School         Not employed   \n",
       "\n",
       "  qualified_for_unhcr_mandatory_contribution  \n",
       "0                               not accepted  \n",
       "1                               not accepted  \n",
       "2                               not accepted  \n",
       "3                               not accepted  \n",
       "4                               not accepted  "
      ]
     },
     "execution_count": 39,
     "metadata": {},
     "output_type": "execute_result"
    }
   ],
   "source": [
    "df.head()"
   ]
  },
  {
   "cell_type": "code",
   "execution_count": 40,
   "id": "2b1ed1cd",
   "metadata": {},
   "outputs": [
    {
     "data": {
      "text/html": [
       "<div>\n",
       "<style scoped>\n",
       "    .dataframe tbody tr th:only-of-type {\n",
       "        vertical-align: middle;\n",
       "    }\n",
       "\n",
       "    .dataframe tbody tr th {\n",
       "        vertical-align: top;\n",
       "    }\n",
       "\n",
       "    .dataframe thead th {\n",
       "        text-align: right;\n",
       "    }\n",
       "</style>\n",
       "<table border=\"1\" class=\"dataframe\">\n",
       "  <thead>\n",
       "    <tr style=\"text-align: right;\">\n",
       "      <th></th>\n",
       "      <th>language</th>\n",
       "      <th>education_level</th>\n",
       "      <th>last_occupation</th>\n",
       "      <th>qualified_for_unhcr_mandatory_contribution</th>\n",
       "    </tr>\n",
       "  </thead>\n",
       "  <tbody>\n",
       "    <tr>\n",
       "      <th>99995</th>\n",
       "      <td>Native</td>\n",
       "      <td>Undergrad</td>\n",
       "      <td>Sales Professional</td>\n",
       "      <td>accepted</td>\n",
       "    </tr>\n",
       "    <tr>\n",
       "      <th>99996</th>\n",
       "      <td>Native + French</td>\n",
       "      <td>High School</td>\n",
       "      <td>Farmer</td>\n",
       "      <td>not accepted</td>\n",
       "    </tr>\n",
       "    <tr>\n",
       "      <th>99997</th>\n",
       "      <td>Native + English + French</td>\n",
       "      <td>Associate Degree</td>\n",
       "      <td>Civil Engineer</td>\n",
       "      <td>accepted</td>\n",
       "    </tr>\n",
       "    <tr>\n",
       "      <th>99998</th>\n",
       "      <td>Native + English</td>\n",
       "      <td>No Education</td>\n",
       "      <td>Fisher</td>\n",
       "      <td>not accepted</td>\n",
       "    </tr>\n",
       "    <tr>\n",
       "      <th>99999</th>\n",
       "      <td>Native + English</td>\n",
       "      <td>No Education</td>\n",
       "      <td>Fisher</td>\n",
       "      <td>not accepted</td>\n",
       "    </tr>\n",
       "  </tbody>\n",
       "</table>\n",
       "</div>"
      ],
      "text/plain": [
       "                        language   education_level     last_occupation  \\\n",
       "99995                     Native         Undergrad  Sales Professional   \n",
       "99996            Native + French       High School              Farmer   \n",
       "99997  Native + English + French  Associate Degree      Civil Engineer   \n",
       "99998           Native + English      No Education              Fisher   \n",
       "99999           Native + English      No Education              Fisher   \n",
       "\n",
       "      qualified_for_unhcr_mandatory_contribution  \n",
       "99995                                   accepted  \n",
       "99996                               not accepted  \n",
       "99997                                   accepted  \n",
       "99998                               not accepted  \n",
       "99999                               not accepted  "
      ]
     },
     "execution_count": 40,
     "metadata": {},
     "output_type": "execute_result"
    }
   ],
   "source": [
    "df1 = df[['language','education_level', 'last_occupation', 'qualified_for_unhcr_mandatory_contribution']]\n",
    "df1.tail()"
   ]
  },
  {
   "cell_type": "code",
   "execution_count": 41,
   "id": "867e8356",
   "metadata": {},
   "outputs": [],
   "source": [
    "#Checking the class distribtion of the target label"
   ]
  },
  {
   "cell_type": "code",
   "execution_count": 42,
   "id": "081ce042",
   "metadata": {},
   "outputs": [
    {
     "data": {
      "text/html": [
       "<div>\n",
       "<style scoped>\n",
       "    .dataframe tbody tr th:only-of-type {\n",
       "        vertical-align: middle;\n",
       "    }\n",
       "\n",
       "    .dataframe tbody tr th {\n",
       "        vertical-align: top;\n",
       "    }\n",
       "\n",
       "    .dataframe thead th {\n",
       "        text-align: right;\n",
       "    }\n",
       "</style>\n",
       "<table border=\"1\" class=\"dataframe\">\n",
       "  <thead>\n",
       "    <tr style=\"text-align: right;\">\n",
       "      <th></th>\n",
       "      <th>language</th>\n",
       "      <th>education_level</th>\n",
       "      <th>last_occupation</th>\n",
       "      <th>qualified_for_unhcr_mandatory_contribution</th>\n",
       "    </tr>\n",
       "  </thead>\n",
       "  <tbody>\n",
       "    <tr>\n",
       "      <th>99995</th>\n",
       "      <td>Native</td>\n",
       "      <td>Undergrad</td>\n",
       "      <td>Sales Professional</td>\n",
       "      <td>accepted</td>\n",
       "    </tr>\n",
       "    <tr>\n",
       "      <th>99996</th>\n",
       "      <td>Native + French</td>\n",
       "      <td>High School</td>\n",
       "      <td>Farmer</td>\n",
       "      <td>not accepted</td>\n",
       "    </tr>\n",
       "    <tr>\n",
       "      <th>99997</th>\n",
       "      <td>Native + English + French</td>\n",
       "      <td>Associate Degree</td>\n",
       "      <td>Civil Engineer</td>\n",
       "      <td>accepted</td>\n",
       "    </tr>\n",
       "    <tr>\n",
       "      <th>99998</th>\n",
       "      <td>Native + English</td>\n",
       "      <td>No Education</td>\n",
       "      <td>Fisher</td>\n",
       "      <td>not accepted</td>\n",
       "    </tr>\n",
       "    <tr>\n",
       "      <th>99999</th>\n",
       "      <td>Native + English</td>\n",
       "      <td>No Education</td>\n",
       "      <td>Fisher</td>\n",
       "      <td>not accepted</td>\n",
       "    </tr>\n",
       "  </tbody>\n",
       "</table>\n",
       "</div>"
      ],
      "text/plain": [
       "                        language   education_level     last_occupation  \\\n",
       "99995                     Native         Undergrad  Sales Professional   \n",
       "99996            Native + French       High School              Farmer   \n",
       "99997  Native + English + French  Associate Degree      Civil Engineer   \n",
       "99998           Native + English      No Education              Fisher   \n",
       "99999           Native + English      No Education              Fisher   \n",
       "\n",
       "      qualified_for_unhcr_mandatory_contribution  \n",
       "99995                                   accepted  \n",
       "99996                               not accepted  \n",
       "99997                                   accepted  \n",
       "99998                               not accepted  \n",
       "99999                               not accepted  "
      ]
     },
     "execution_count": 42,
     "metadata": {},
     "output_type": "execute_result"
    }
   ],
   "source": [
    "df2 = df[['language','education_level', 'last_occupation', 'qualified_for_unhcr_mandatory_contribution']]\n",
    "df2.tail()"
   ]
  },
  {
   "cell_type": "code",
   "execution_count": 43,
   "id": "5f87afe9",
   "metadata": {},
   "outputs": [],
   "source": [
    " df3=pd.get_dummies(df2, columns=['language','education_level','last_occupation', 'qualified_for_unhcr_mandatory_contribution'])"
   ]
  },
  {
   "cell_type": "code",
   "execution_count": 44,
   "id": "6f8d9e09",
   "metadata": {},
   "outputs": [],
   "source": [
    "df3 = df3[np.all(np.isfinite(df3), axis=1)]"
   ]
  },
  {
   "cell_type": "code",
   "execution_count": 45,
   "id": "937a43ec",
   "metadata": {},
   "outputs": [
    {
     "data": {
      "text/html": [
       "<div>\n",
       "<style scoped>\n",
       "    .dataframe tbody tr th:only-of-type {\n",
       "        vertical-align: middle;\n",
       "    }\n",
       "\n",
       "    .dataframe tbody tr th {\n",
       "        vertical-align: top;\n",
       "    }\n",
       "\n",
       "    .dataframe thead th {\n",
       "        text-align: right;\n",
       "    }\n",
       "</style>\n",
       "<table border=\"1\" class=\"dataframe\">\n",
       "  <thead>\n",
       "    <tr style=\"text-align: right;\">\n",
       "      <th></th>\n",
       "      <th>language_Native</th>\n",
       "      <th>language_Native + English</th>\n",
       "      <th>language_Native + English + French</th>\n",
       "      <th>language_Native + French</th>\n",
       "      <th>education_level_Associate Degree</th>\n",
       "      <th>education_level_High School</th>\n",
       "      <th>education_level_Masters</th>\n",
       "      <th>education_level_No Education</th>\n",
       "      <th>education_level_PhD</th>\n",
       "      <th>education_level_Primary</th>\n",
       "      <th>...</th>\n",
       "      <th>last_occupation_Nurses and Personal Carers</th>\n",
       "      <th>last_occupation_Petroleum Engineer</th>\n",
       "      <th>last_occupation_Pharmaceutical Professional</th>\n",
       "      <th>last_occupation_Physical Therapist</th>\n",
       "      <th>last_occupation_Sales Professional</th>\n",
       "      <th>last_occupation_Software Developer</th>\n",
       "      <th>last_occupation_University Lecturer</th>\n",
       "      <th>last_occupation_Vet</th>\n",
       "      <th>qualified_for_unhcr_mandatory_contribution_accepted</th>\n",
       "      <th>qualified_for_unhcr_mandatory_contribution_not accepted</th>\n",
       "    </tr>\n",
       "  </thead>\n",
       "  <tbody>\n",
       "    <tr>\n",
       "      <th>0</th>\n",
       "      <td>0</td>\n",
       "      <td>0</td>\n",
       "      <td>0</td>\n",
       "      <td>1</td>\n",
       "      <td>0</td>\n",
       "      <td>1</td>\n",
       "      <td>0</td>\n",
       "      <td>0</td>\n",
       "      <td>0</td>\n",
       "      <td>0</td>\n",
       "      <td>...</td>\n",
       "      <td>0</td>\n",
       "      <td>0</td>\n",
       "      <td>0</td>\n",
       "      <td>0</td>\n",
       "      <td>0</td>\n",
       "      <td>0</td>\n",
       "      <td>0</td>\n",
       "      <td>0</td>\n",
       "      <td>0</td>\n",
       "      <td>1</td>\n",
       "    </tr>\n",
       "    <tr>\n",
       "      <th>1</th>\n",
       "      <td>0</td>\n",
       "      <td>1</td>\n",
       "      <td>0</td>\n",
       "      <td>0</td>\n",
       "      <td>0</td>\n",
       "      <td>1</td>\n",
       "      <td>0</td>\n",
       "      <td>0</td>\n",
       "      <td>0</td>\n",
       "      <td>0</td>\n",
       "      <td>...</td>\n",
       "      <td>0</td>\n",
       "      <td>0</td>\n",
       "      <td>0</td>\n",
       "      <td>0</td>\n",
       "      <td>0</td>\n",
       "      <td>0</td>\n",
       "      <td>0</td>\n",
       "      <td>0</td>\n",
       "      <td>0</td>\n",
       "      <td>1</td>\n",
       "    </tr>\n",
       "    <tr>\n",
       "      <th>2</th>\n",
       "      <td>1</td>\n",
       "      <td>0</td>\n",
       "      <td>0</td>\n",
       "      <td>0</td>\n",
       "      <td>0</td>\n",
       "      <td>0</td>\n",
       "      <td>0</td>\n",
       "      <td>0</td>\n",
       "      <td>0</td>\n",
       "      <td>1</td>\n",
       "      <td>...</td>\n",
       "      <td>0</td>\n",
       "      <td>0</td>\n",
       "      <td>0</td>\n",
       "      <td>0</td>\n",
       "      <td>0</td>\n",
       "      <td>0</td>\n",
       "      <td>0</td>\n",
       "      <td>0</td>\n",
       "      <td>0</td>\n",
       "      <td>1</td>\n",
       "    </tr>\n",
       "    <tr>\n",
       "      <th>3</th>\n",
       "      <td>0</td>\n",
       "      <td>1</td>\n",
       "      <td>0</td>\n",
       "      <td>0</td>\n",
       "      <td>0</td>\n",
       "      <td>0</td>\n",
       "      <td>0</td>\n",
       "      <td>0</td>\n",
       "      <td>0</td>\n",
       "      <td>1</td>\n",
       "      <td>...</td>\n",
       "      <td>0</td>\n",
       "      <td>0</td>\n",
       "      <td>0</td>\n",
       "      <td>0</td>\n",
       "      <td>0</td>\n",
       "      <td>0</td>\n",
       "      <td>0</td>\n",
       "      <td>0</td>\n",
       "      <td>0</td>\n",
       "      <td>1</td>\n",
       "    </tr>\n",
       "    <tr>\n",
       "      <th>4</th>\n",
       "      <td>0</td>\n",
       "      <td>1</td>\n",
       "      <td>0</td>\n",
       "      <td>0</td>\n",
       "      <td>0</td>\n",
       "      <td>1</td>\n",
       "      <td>0</td>\n",
       "      <td>0</td>\n",
       "      <td>0</td>\n",
       "      <td>0</td>\n",
       "      <td>...</td>\n",
       "      <td>0</td>\n",
       "      <td>0</td>\n",
       "      <td>0</td>\n",
       "      <td>0</td>\n",
       "      <td>0</td>\n",
       "      <td>0</td>\n",
       "      <td>0</td>\n",
       "      <td>0</td>\n",
       "      <td>0</td>\n",
       "      <td>1</td>\n",
       "    </tr>\n",
       "  </tbody>\n",
       "</table>\n",
       "<p>5 rows × 49 columns</p>\n",
       "</div>"
      ],
      "text/plain": [
       "   language_Native  language_Native + English  \\\n",
       "0                0                          0   \n",
       "1                0                          1   \n",
       "2                1                          0   \n",
       "3                0                          1   \n",
       "4                0                          1   \n",
       "\n",
       "   language_Native + English + French  language_Native + French  \\\n",
       "0                                   0                         1   \n",
       "1                                   0                         0   \n",
       "2                                   0                         0   \n",
       "3                                   0                         0   \n",
       "4                                   0                         0   \n",
       "\n",
       "   education_level_Associate Degree  education_level_High School  \\\n",
       "0                                 0                            1   \n",
       "1                                 0                            1   \n",
       "2                                 0                            0   \n",
       "3                                 0                            0   \n",
       "4                                 0                            1   \n",
       "\n",
       "   education_level_Masters  education_level_No Education  education_level_PhD  \\\n",
       "0                        0                             0                    0   \n",
       "1                        0                             0                    0   \n",
       "2                        0                             0                    0   \n",
       "3                        0                             0                    0   \n",
       "4                        0                             0                    0   \n",
       "\n",
       "   education_level_Primary  ...  last_occupation_Nurses and Personal Carers  \\\n",
       "0                        0  ...                                           0   \n",
       "1                        0  ...                                           0   \n",
       "2                        1  ...                                           0   \n",
       "3                        1  ...                                           0   \n",
       "4                        0  ...                                           0   \n",
       "\n",
       "   last_occupation_Petroleum Engineer  \\\n",
       "0                                   0   \n",
       "1                                   0   \n",
       "2                                   0   \n",
       "3                                   0   \n",
       "4                                   0   \n",
       "\n",
       "   last_occupation_Pharmaceutical Professional  \\\n",
       "0                                            0   \n",
       "1                                            0   \n",
       "2                                            0   \n",
       "3                                            0   \n",
       "4                                            0   \n",
       "\n",
       "   last_occupation_Physical Therapist  last_occupation_Sales Professional  \\\n",
       "0                                   0                                   0   \n",
       "1                                   0                                   0   \n",
       "2                                   0                                   0   \n",
       "3                                   0                                   0   \n",
       "4                                   0                                   0   \n",
       "\n",
       "   last_occupation_Software Developer  last_occupation_University Lecturer  \\\n",
       "0                                   0                                    0   \n",
       "1                                   0                                    0   \n",
       "2                                   0                                    0   \n",
       "3                                   0                                    0   \n",
       "4                                   0                                    0   \n",
       "\n",
       "   last_occupation_Vet  qualified_for_unhcr_mandatory_contribution_accepted  \\\n",
       "0                    0                                                  0     \n",
       "1                    0                                                  0     \n",
       "2                    0                                                  0     \n",
       "3                    0                                                  0     \n",
       "4                    0                                                  0     \n",
       "\n",
       "   qualified_for_unhcr_mandatory_contribution_not accepted  \n",
       "0                                                  1        \n",
       "1                                                  1        \n",
       "2                                                  1        \n",
       "3                                                  1        \n",
       "4                                                  1        \n",
       "\n",
       "[5 rows x 49 columns]"
      ]
     },
     "execution_count": 45,
     "metadata": {},
     "output_type": "execute_result"
    }
   ],
   "source": [
    "df3.head()"
   ]
  },
  {
   "cell_type": "code",
   "execution_count": null,
   "id": "4c9ca3f4",
   "metadata": {},
   "outputs": [],
   "source": []
  },
  {
   "cell_type": "code",
   "execution_count": null,
   "id": "3fdf0892",
   "metadata": {},
   "outputs": [],
   "source": []
  },
  {
   "cell_type": "code",
   "execution_count": null,
   "id": "845168e1",
   "metadata": {},
   "outputs": [],
   "source": []
  },
  {
   "cell_type": "code",
   "execution_count": 46,
   "id": "37283697",
   "metadata": {},
   "outputs": [
    {
     "data": {
      "text/plain": [
       "0    65245\n",
       "1    34755\n",
       "Name: qualified_for_unhcr_mandatory_contribution_accepted, dtype: int64"
      ]
     },
     "execution_count": 46,
     "metadata": {},
     "output_type": "execute_result"
    }
   ],
   "source": [
    "df3['qualified_for_unhcr_mandatory_contribution_accepted'].value_counts()"
   ]
  },
  {
   "cell_type": "code",
   "execution_count": 47,
   "id": "7771e373",
   "metadata": {},
   "outputs": [],
   "source": [
    "df3_train, df3_test = train_test_split(df3, test_size=0.2)"
   ]
  },
  {
   "cell_type": "code",
   "execution_count": 48,
   "id": "ae8bfcec",
   "metadata": {},
   "outputs": [],
   "source": [
    "x_train = df3_train.drop(['qualified_for_unhcr_mandatory_contribution_accepted', 'qualified_for_unhcr_mandatory_contribution_not accepted'], axis=1)\n",
    "x_test = df3_test.drop(['qualified_for_unhcr_mandatory_contribution_accepted', 'qualified_for_unhcr_mandatory_contribution_not accepted'], axis=1)"
   ]
  },
  {
   "cell_type": "code",
   "execution_count": 49,
   "id": "33b99c9c",
   "metadata": {},
   "outputs": [
    {
     "data": {
      "text/html": [
       "<div>\n",
       "<style scoped>\n",
       "    .dataframe tbody tr th:only-of-type {\n",
       "        vertical-align: middle;\n",
       "    }\n",
       "\n",
       "    .dataframe tbody tr th {\n",
       "        vertical-align: top;\n",
       "    }\n",
       "\n",
       "    .dataframe thead th {\n",
       "        text-align: right;\n",
       "    }\n",
       "</style>\n",
       "<table border=\"1\" class=\"dataframe\">\n",
       "  <thead>\n",
       "    <tr style=\"text-align: right;\">\n",
       "      <th></th>\n",
       "      <th>language_Native</th>\n",
       "      <th>language_Native + English</th>\n",
       "      <th>language_Native + English + French</th>\n",
       "      <th>language_Native + French</th>\n",
       "      <th>education_level_Associate Degree</th>\n",
       "      <th>education_level_High School</th>\n",
       "      <th>education_level_Masters</th>\n",
       "      <th>education_level_No Education</th>\n",
       "      <th>education_level_PhD</th>\n",
       "      <th>education_level_Primary</th>\n",
       "      <th>...</th>\n",
       "      <th>last_occupation_Newtwork Engineer</th>\n",
       "      <th>last_occupation_Not employed</th>\n",
       "      <th>last_occupation_Nurses and Personal Carers</th>\n",
       "      <th>last_occupation_Petroleum Engineer</th>\n",
       "      <th>last_occupation_Pharmaceutical Professional</th>\n",
       "      <th>last_occupation_Physical Therapist</th>\n",
       "      <th>last_occupation_Sales Professional</th>\n",
       "      <th>last_occupation_Software Developer</th>\n",
       "      <th>last_occupation_University Lecturer</th>\n",
       "      <th>last_occupation_Vet</th>\n",
       "    </tr>\n",
       "  </thead>\n",
       "  <tbody>\n",
       "    <tr>\n",
       "      <th>55878</th>\n",
       "      <td>1</td>\n",
       "      <td>0</td>\n",
       "      <td>0</td>\n",
       "      <td>0</td>\n",
       "      <td>0</td>\n",
       "      <td>0</td>\n",
       "      <td>0</td>\n",
       "      <td>0</td>\n",
       "      <td>0</td>\n",
       "      <td>0</td>\n",
       "      <td>...</td>\n",
       "      <td>0</td>\n",
       "      <td>0</td>\n",
       "      <td>0</td>\n",
       "      <td>0</td>\n",
       "      <td>0</td>\n",
       "      <td>0</td>\n",
       "      <td>0</td>\n",
       "      <td>0</td>\n",
       "      <td>0</td>\n",
       "      <td>0</td>\n",
       "    </tr>\n",
       "    <tr>\n",
       "      <th>80055</th>\n",
       "      <td>0</td>\n",
       "      <td>1</td>\n",
       "      <td>0</td>\n",
       "      <td>0</td>\n",
       "      <td>0</td>\n",
       "      <td>0</td>\n",
       "      <td>0</td>\n",
       "      <td>1</td>\n",
       "      <td>0</td>\n",
       "      <td>0</td>\n",
       "      <td>...</td>\n",
       "      <td>0</td>\n",
       "      <td>0</td>\n",
       "      <td>0</td>\n",
       "      <td>0</td>\n",
       "      <td>0</td>\n",
       "      <td>0</td>\n",
       "      <td>0</td>\n",
       "      <td>0</td>\n",
       "      <td>0</td>\n",
       "      <td>0</td>\n",
       "    </tr>\n",
       "    <tr>\n",
       "      <th>92374</th>\n",
       "      <td>1</td>\n",
       "      <td>0</td>\n",
       "      <td>0</td>\n",
       "      <td>0</td>\n",
       "      <td>0</td>\n",
       "      <td>1</td>\n",
       "      <td>0</td>\n",
       "      <td>0</td>\n",
       "      <td>0</td>\n",
       "      <td>0</td>\n",
       "      <td>...</td>\n",
       "      <td>0</td>\n",
       "      <td>0</td>\n",
       "      <td>0</td>\n",
       "      <td>0</td>\n",
       "      <td>0</td>\n",
       "      <td>0</td>\n",
       "      <td>0</td>\n",
       "      <td>0</td>\n",
       "      <td>0</td>\n",
       "      <td>0</td>\n",
       "    </tr>\n",
       "    <tr>\n",
       "      <th>28596</th>\n",
       "      <td>0</td>\n",
       "      <td>0</td>\n",
       "      <td>0</td>\n",
       "      <td>1</td>\n",
       "      <td>0</td>\n",
       "      <td>0</td>\n",
       "      <td>0</td>\n",
       "      <td>0</td>\n",
       "      <td>1</td>\n",
       "      <td>0</td>\n",
       "      <td>...</td>\n",
       "      <td>0</td>\n",
       "      <td>0</td>\n",
       "      <td>0</td>\n",
       "      <td>0</td>\n",
       "      <td>0</td>\n",
       "      <td>0</td>\n",
       "      <td>0</td>\n",
       "      <td>0</td>\n",
       "      <td>1</td>\n",
       "      <td>0</td>\n",
       "    </tr>\n",
       "    <tr>\n",
       "      <th>70555</th>\n",
       "      <td>0</td>\n",
       "      <td>0</td>\n",
       "      <td>1</td>\n",
       "      <td>0</td>\n",
       "      <td>0</td>\n",
       "      <td>1</td>\n",
       "      <td>0</td>\n",
       "      <td>0</td>\n",
       "      <td>0</td>\n",
       "      <td>0</td>\n",
       "      <td>...</td>\n",
       "      <td>0</td>\n",
       "      <td>0</td>\n",
       "      <td>0</td>\n",
       "      <td>0</td>\n",
       "      <td>0</td>\n",
       "      <td>0</td>\n",
       "      <td>0</td>\n",
       "      <td>0</td>\n",
       "      <td>0</td>\n",
       "      <td>0</td>\n",
       "    </tr>\n",
       "  </tbody>\n",
       "</table>\n",
       "<p>5 rows × 47 columns</p>\n",
       "</div>"
      ],
      "text/plain": [
       "       language_Native  language_Native + English  \\\n",
       "55878                1                          0   \n",
       "80055                0                          1   \n",
       "92374                1                          0   \n",
       "28596                0                          0   \n",
       "70555                0                          0   \n",
       "\n",
       "       language_Native + English + French  language_Native + French  \\\n",
       "55878                                   0                         0   \n",
       "80055                                   0                         0   \n",
       "92374                                   0                         0   \n",
       "28596                                   0                         1   \n",
       "70555                                   1                         0   \n",
       "\n",
       "       education_level_Associate Degree  education_level_High School  \\\n",
       "55878                                 0                            0   \n",
       "80055                                 0                            0   \n",
       "92374                                 0                            1   \n",
       "28596                                 0                            0   \n",
       "70555                                 0                            1   \n",
       "\n",
       "       education_level_Masters  education_level_No Education  \\\n",
       "55878                        0                             0   \n",
       "80055                        0                             1   \n",
       "92374                        0                             0   \n",
       "28596                        0                             0   \n",
       "70555                        0                             0   \n",
       "\n",
       "       education_level_PhD  education_level_Primary  ...  \\\n",
       "55878                    0                        0  ...   \n",
       "80055                    0                        0  ...   \n",
       "92374                    0                        0  ...   \n",
       "28596                    1                        0  ...   \n",
       "70555                    0                        0  ...   \n",
       "\n",
       "       last_occupation_Newtwork Engineer  last_occupation_Not employed  \\\n",
       "55878                                  0                             0   \n",
       "80055                                  0                             0   \n",
       "92374                                  0                             0   \n",
       "28596                                  0                             0   \n",
       "70555                                  0                             0   \n",
       "\n",
       "       last_occupation_Nurses and Personal Carers  \\\n",
       "55878                                           0   \n",
       "80055                                           0   \n",
       "92374                                           0   \n",
       "28596                                           0   \n",
       "70555                                           0   \n",
       "\n",
       "       last_occupation_Petroleum Engineer  \\\n",
       "55878                                   0   \n",
       "80055                                   0   \n",
       "92374                                   0   \n",
       "28596                                   0   \n",
       "70555                                   0   \n",
       "\n",
       "       last_occupation_Pharmaceutical Professional  \\\n",
       "55878                                            0   \n",
       "80055                                            0   \n",
       "92374                                            0   \n",
       "28596                                            0   \n",
       "70555                                            0   \n",
       "\n",
       "       last_occupation_Physical Therapist  last_occupation_Sales Professional  \\\n",
       "55878                                   0                                   0   \n",
       "80055                                   0                                   0   \n",
       "92374                                   0                                   0   \n",
       "28596                                   0                                   0   \n",
       "70555                                   0                                   0   \n",
       "\n",
       "       last_occupation_Software Developer  \\\n",
       "55878                                   0   \n",
       "80055                                   0   \n",
       "92374                                   0   \n",
       "28596                                   0   \n",
       "70555                                   0   \n",
       "\n",
       "       last_occupation_University Lecturer  last_occupation_Vet  \n",
       "55878                                    0                    0  \n",
       "80055                                    0                    0  \n",
       "92374                                    0                    0  \n",
       "28596                                    1                    0  \n",
       "70555                                    0                    0  \n",
       "\n",
       "[5 rows x 47 columns]"
      ]
     },
     "execution_count": 49,
     "metadata": {},
     "output_type": "execute_result"
    }
   ],
   "source": [
    "x_train.head()"
   ]
  },
  {
   "cell_type": "code",
   "execution_count": 50,
   "id": "56334688",
   "metadata": {},
   "outputs": [],
   "source": [
    "y_train = df3_train[['qualified_for_unhcr_mandatory_contribution_accepted', 'qualified_for_unhcr_mandatory_contribution_not accepted']]\n",
    "y_test = df3_test[['qualified_for_unhcr_mandatory_contribution_accepted', 'qualified_for_unhcr_mandatory_contribution_not accepted']]"
   ]
  },
  {
   "cell_type": "code",
   "execution_count": 51,
   "id": "952a14e8",
   "metadata": {},
   "outputs": [
    {
     "data": {
      "text/html": [
       "<div>\n",
       "<style scoped>\n",
       "    .dataframe tbody tr th:only-of-type {\n",
       "        vertical-align: middle;\n",
       "    }\n",
       "\n",
       "    .dataframe tbody tr th {\n",
       "        vertical-align: top;\n",
       "    }\n",
       "\n",
       "    .dataframe thead th {\n",
       "        text-align: right;\n",
       "    }\n",
       "</style>\n",
       "<table border=\"1\" class=\"dataframe\">\n",
       "  <thead>\n",
       "    <tr style=\"text-align: right;\">\n",
       "      <th></th>\n",
       "      <th>qualified_for_unhcr_mandatory_contribution_accepted</th>\n",
       "      <th>qualified_for_unhcr_mandatory_contribution_not accepted</th>\n",
       "    </tr>\n",
       "  </thead>\n",
       "  <tbody>\n",
       "    <tr>\n",
       "      <th>77181</th>\n",
       "      <td>0</td>\n",
       "      <td>1</td>\n",
       "    </tr>\n",
       "    <tr>\n",
       "      <th>78870</th>\n",
       "      <td>1</td>\n",
       "      <td>0</td>\n",
       "    </tr>\n",
       "    <tr>\n",
       "      <th>19540</th>\n",
       "      <td>0</td>\n",
       "      <td>1</td>\n",
       "    </tr>\n",
       "    <tr>\n",
       "      <th>1992</th>\n",
       "      <td>0</td>\n",
       "      <td>1</td>\n",
       "    </tr>\n",
       "    <tr>\n",
       "      <th>38559</th>\n",
       "      <td>0</td>\n",
       "      <td>1</td>\n",
       "    </tr>\n",
       "  </tbody>\n",
       "</table>\n",
       "</div>"
      ],
      "text/plain": [
       "       qualified_for_unhcr_mandatory_contribution_accepted  \\\n",
       "77181                                                  0     \n",
       "78870                                                  1     \n",
       "19540                                                  0     \n",
       "1992                                                   0     \n",
       "38559                                                  0     \n",
       "\n",
       "       qualified_for_unhcr_mandatory_contribution_not accepted  \n",
       "77181                                                  1        \n",
       "78870                                                  0        \n",
       "19540                                                  1        \n",
       "1992                                                   1        \n",
       "38559                                                  1        "
      ]
     },
     "execution_count": 51,
     "metadata": {},
     "output_type": "execute_result"
    }
   ],
   "source": [
    "y_train.tail()"
   ]
  },
  {
   "cell_type": "code",
   "execution_count": null,
   "id": "915ca009",
   "metadata": {},
   "outputs": [],
   "source": []
  },
  {
   "cell_type": "code",
   "execution_count": null,
   "id": "c0a8258f",
   "metadata": {},
   "outputs": [],
   "source": []
  },
  {
   "cell_type": "code",
   "execution_count": 52,
   "id": "4bfef07a",
   "metadata": {},
   "outputs": [],
   "source": [
    "#creating a new dataframe with the desired features and labels"
   ]
  },
  {
   "cell_type": "code",
   "execution_count": 53,
   "id": "ea39335f",
   "metadata": {},
   "outputs": [
    {
     "data": {
      "text/html": [
       "<div>\n",
       "<style scoped>\n",
       "    .dataframe tbody tr th:only-of-type {\n",
       "        vertical-align: middle;\n",
       "    }\n",
       "\n",
       "    .dataframe tbody tr th {\n",
       "        vertical-align: top;\n",
       "    }\n",
       "\n",
       "    .dataframe thead th {\n",
       "        text-align: right;\n",
       "    }\n",
       "</style>\n",
       "<table border=\"1\" class=\"dataframe\">\n",
       "  <thead>\n",
       "    <tr style=\"text-align: right;\">\n",
       "      <th></th>\n",
       "      <th>language</th>\n",
       "      <th>education_level</th>\n",
       "      <th>last_occupation</th>\n",
       "      <th>qualified_for_unhcr_mandatory_contribution</th>\n",
       "    </tr>\n",
       "  </thead>\n",
       "  <tbody>\n",
       "    <tr>\n",
       "      <th>99995</th>\n",
       "      <td>Native</td>\n",
       "      <td>Undergrad</td>\n",
       "      <td>Sales Professional</td>\n",
       "      <td>accepted</td>\n",
       "    </tr>\n",
       "    <tr>\n",
       "      <th>99996</th>\n",
       "      <td>Native + French</td>\n",
       "      <td>High School</td>\n",
       "      <td>Farmer</td>\n",
       "      <td>not accepted</td>\n",
       "    </tr>\n",
       "    <tr>\n",
       "      <th>99997</th>\n",
       "      <td>Native + English + French</td>\n",
       "      <td>Associate Degree</td>\n",
       "      <td>Civil Engineer</td>\n",
       "      <td>accepted</td>\n",
       "    </tr>\n",
       "    <tr>\n",
       "      <th>99998</th>\n",
       "      <td>Native + English</td>\n",
       "      <td>No Education</td>\n",
       "      <td>Fisher</td>\n",
       "      <td>not accepted</td>\n",
       "    </tr>\n",
       "    <tr>\n",
       "      <th>99999</th>\n",
       "      <td>Native + English</td>\n",
       "      <td>No Education</td>\n",
       "      <td>Fisher</td>\n",
       "      <td>not accepted</td>\n",
       "    </tr>\n",
       "  </tbody>\n",
       "</table>\n",
       "</div>"
      ],
      "text/plain": [
       "                        language   education_level     last_occupation  \\\n",
       "99995                     Native         Undergrad  Sales Professional   \n",
       "99996            Native + French       High School              Farmer   \n",
       "99997  Native + English + French  Associate Degree      Civil Engineer   \n",
       "99998           Native + English      No Education              Fisher   \n",
       "99999           Native + English      No Education              Fisher   \n",
       "\n",
       "      qualified_for_unhcr_mandatory_contribution  \n",
       "99995                                   accepted  \n",
       "99996                               not accepted  \n",
       "99997                                   accepted  \n",
       "99998                               not accepted  \n",
       "99999                               not accepted  "
      ]
     },
     "execution_count": 53,
     "metadata": {},
     "output_type": "execute_result"
    }
   ],
   "source": [
    "df2 = df[['language','education_level', 'last_occupation', 'qualified_for_unhcr_mandatory_contribution']]\n",
    "df2.tail()"
   ]
  },
  {
   "cell_type": "code",
   "execution_count": 54,
   "id": "20bf0006",
   "metadata": {},
   "outputs": [],
   "source": [
    "#OneHotEncoder"
   ]
  },
  {
   "cell_type": "code",
   "execution_count": 55,
   "id": "89d005fb",
   "metadata": {},
   "outputs": [],
   "source": [
    "add_columns1 = pd.get_dummies(df2, columns=['language','education_level','last_occupation', 'qualified_for_unhcr_mandatory_contribution'])"
   ]
  },
  {
   "cell_type": "code",
   "execution_count": 56,
   "id": "0f595b35",
   "metadata": {},
   "outputs": [],
   "source": [
    "add_columns2 = df2.drop(['qualified_for_unhcr_mandatory_contribution'], axis=1)"
   ]
  },
  {
   "cell_type": "code",
   "execution_count": 57,
   "id": "630893d9",
   "metadata": {},
   "outputs": [],
   "source": [
    "add_columns2 = pd.get_dummies(df2, columns=['language','education_level','last_occupation', 'qualified_for_unhcr_mandatory_contribution'])"
   ]
  },
  {
   "cell_type": "code",
   "execution_count": 58,
   "id": "d4ffcf47",
   "metadata": {},
   "outputs": [
    {
     "data": {
      "text/html": [
       "<div>\n",
       "<style scoped>\n",
       "    .dataframe tbody tr th:only-of-type {\n",
       "        vertical-align: middle;\n",
       "    }\n",
       "\n",
       "    .dataframe tbody tr th {\n",
       "        vertical-align: top;\n",
       "    }\n",
       "\n",
       "    .dataframe thead th {\n",
       "        text-align: right;\n",
       "    }\n",
       "</style>\n",
       "<table border=\"1\" class=\"dataframe\">\n",
       "  <thead>\n",
       "    <tr style=\"text-align: right;\">\n",
       "      <th></th>\n",
       "      <th>language_Native</th>\n",
       "      <th>language_Native + English</th>\n",
       "      <th>language_Native + English + French</th>\n",
       "      <th>language_Native + French</th>\n",
       "      <th>education_level_Associate Degree</th>\n",
       "      <th>education_level_High School</th>\n",
       "      <th>education_level_Masters</th>\n",
       "      <th>education_level_No Education</th>\n",
       "      <th>education_level_PhD</th>\n",
       "      <th>education_level_Primary</th>\n",
       "      <th>...</th>\n",
       "      <th>last_occupation_Nurses and Personal Carers</th>\n",
       "      <th>last_occupation_Petroleum Engineer</th>\n",
       "      <th>last_occupation_Pharmaceutical Professional</th>\n",
       "      <th>last_occupation_Physical Therapist</th>\n",
       "      <th>last_occupation_Sales Professional</th>\n",
       "      <th>last_occupation_Software Developer</th>\n",
       "      <th>last_occupation_University Lecturer</th>\n",
       "      <th>last_occupation_Vet</th>\n",
       "      <th>qualified_for_unhcr_mandatory_contribution_accepted</th>\n",
       "      <th>qualified_for_unhcr_mandatory_contribution_not accepted</th>\n",
       "    </tr>\n",
       "  </thead>\n",
       "  <tbody>\n",
       "    <tr>\n",
       "      <th>0</th>\n",
       "      <td>0</td>\n",
       "      <td>0</td>\n",
       "      <td>0</td>\n",
       "      <td>1</td>\n",
       "      <td>0</td>\n",
       "      <td>1</td>\n",
       "      <td>0</td>\n",
       "      <td>0</td>\n",
       "      <td>0</td>\n",
       "      <td>0</td>\n",
       "      <td>...</td>\n",
       "      <td>0</td>\n",
       "      <td>0</td>\n",
       "      <td>0</td>\n",
       "      <td>0</td>\n",
       "      <td>0</td>\n",
       "      <td>0</td>\n",
       "      <td>0</td>\n",
       "      <td>0</td>\n",
       "      <td>0</td>\n",
       "      <td>1</td>\n",
       "    </tr>\n",
       "    <tr>\n",
       "      <th>1</th>\n",
       "      <td>0</td>\n",
       "      <td>1</td>\n",
       "      <td>0</td>\n",
       "      <td>0</td>\n",
       "      <td>0</td>\n",
       "      <td>1</td>\n",
       "      <td>0</td>\n",
       "      <td>0</td>\n",
       "      <td>0</td>\n",
       "      <td>0</td>\n",
       "      <td>...</td>\n",
       "      <td>0</td>\n",
       "      <td>0</td>\n",
       "      <td>0</td>\n",
       "      <td>0</td>\n",
       "      <td>0</td>\n",
       "      <td>0</td>\n",
       "      <td>0</td>\n",
       "      <td>0</td>\n",
       "      <td>0</td>\n",
       "      <td>1</td>\n",
       "    </tr>\n",
       "    <tr>\n",
       "      <th>2</th>\n",
       "      <td>1</td>\n",
       "      <td>0</td>\n",
       "      <td>0</td>\n",
       "      <td>0</td>\n",
       "      <td>0</td>\n",
       "      <td>0</td>\n",
       "      <td>0</td>\n",
       "      <td>0</td>\n",
       "      <td>0</td>\n",
       "      <td>1</td>\n",
       "      <td>...</td>\n",
       "      <td>0</td>\n",
       "      <td>0</td>\n",
       "      <td>0</td>\n",
       "      <td>0</td>\n",
       "      <td>0</td>\n",
       "      <td>0</td>\n",
       "      <td>0</td>\n",
       "      <td>0</td>\n",
       "      <td>0</td>\n",
       "      <td>1</td>\n",
       "    </tr>\n",
       "    <tr>\n",
       "      <th>3</th>\n",
       "      <td>0</td>\n",
       "      <td>1</td>\n",
       "      <td>0</td>\n",
       "      <td>0</td>\n",
       "      <td>0</td>\n",
       "      <td>0</td>\n",
       "      <td>0</td>\n",
       "      <td>0</td>\n",
       "      <td>0</td>\n",
       "      <td>1</td>\n",
       "      <td>...</td>\n",
       "      <td>0</td>\n",
       "      <td>0</td>\n",
       "      <td>0</td>\n",
       "      <td>0</td>\n",
       "      <td>0</td>\n",
       "      <td>0</td>\n",
       "      <td>0</td>\n",
       "      <td>0</td>\n",
       "      <td>0</td>\n",
       "      <td>1</td>\n",
       "    </tr>\n",
       "    <tr>\n",
       "      <th>4</th>\n",
       "      <td>0</td>\n",
       "      <td>1</td>\n",
       "      <td>0</td>\n",
       "      <td>0</td>\n",
       "      <td>0</td>\n",
       "      <td>1</td>\n",
       "      <td>0</td>\n",
       "      <td>0</td>\n",
       "      <td>0</td>\n",
       "      <td>0</td>\n",
       "      <td>...</td>\n",
       "      <td>0</td>\n",
       "      <td>0</td>\n",
       "      <td>0</td>\n",
       "      <td>0</td>\n",
       "      <td>0</td>\n",
       "      <td>0</td>\n",
       "      <td>0</td>\n",
       "      <td>0</td>\n",
       "      <td>0</td>\n",
       "      <td>1</td>\n",
       "    </tr>\n",
       "    <tr>\n",
       "      <th>...</th>\n",
       "      <td>...</td>\n",
       "      <td>...</td>\n",
       "      <td>...</td>\n",
       "      <td>...</td>\n",
       "      <td>...</td>\n",
       "      <td>...</td>\n",
       "      <td>...</td>\n",
       "      <td>...</td>\n",
       "      <td>...</td>\n",
       "      <td>...</td>\n",
       "      <td>...</td>\n",
       "      <td>...</td>\n",
       "      <td>...</td>\n",
       "      <td>...</td>\n",
       "      <td>...</td>\n",
       "      <td>...</td>\n",
       "      <td>...</td>\n",
       "      <td>...</td>\n",
       "      <td>...</td>\n",
       "      <td>...</td>\n",
       "      <td>...</td>\n",
       "    </tr>\n",
       "    <tr>\n",
       "      <th>99995</th>\n",
       "      <td>1</td>\n",
       "      <td>0</td>\n",
       "      <td>0</td>\n",
       "      <td>0</td>\n",
       "      <td>0</td>\n",
       "      <td>0</td>\n",
       "      <td>0</td>\n",
       "      <td>0</td>\n",
       "      <td>0</td>\n",
       "      <td>0</td>\n",
       "      <td>...</td>\n",
       "      <td>0</td>\n",
       "      <td>0</td>\n",
       "      <td>0</td>\n",
       "      <td>0</td>\n",
       "      <td>1</td>\n",
       "      <td>0</td>\n",
       "      <td>0</td>\n",
       "      <td>0</td>\n",
       "      <td>1</td>\n",
       "      <td>0</td>\n",
       "    </tr>\n",
       "    <tr>\n",
       "      <th>99996</th>\n",
       "      <td>0</td>\n",
       "      <td>0</td>\n",
       "      <td>0</td>\n",
       "      <td>1</td>\n",
       "      <td>0</td>\n",
       "      <td>1</td>\n",
       "      <td>0</td>\n",
       "      <td>0</td>\n",
       "      <td>0</td>\n",
       "      <td>0</td>\n",
       "      <td>...</td>\n",
       "      <td>0</td>\n",
       "      <td>0</td>\n",
       "      <td>0</td>\n",
       "      <td>0</td>\n",
       "      <td>0</td>\n",
       "      <td>0</td>\n",
       "      <td>0</td>\n",
       "      <td>0</td>\n",
       "      <td>0</td>\n",
       "      <td>1</td>\n",
       "    </tr>\n",
       "    <tr>\n",
       "      <th>99997</th>\n",
       "      <td>0</td>\n",
       "      <td>0</td>\n",
       "      <td>1</td>\n",
       "      <td>0</td>\n",
       "      <td>1</td>\n",
       "      <td>0</td>\n",
       "      <td>0</td>\n",
       "      <td>0</td>\n",
       "      <td>0</td>\n",
       "      <td>0</td>\n",
       "      <td>...</td>\n",
       "      <td>0</td>\n",
       "      <td>0</td>\n",
       "      <td>0</td>\n",
       "      <td>0</td>\n",
       "      <td>0</td>\n",
       "      <td>0</td>\n",
       "      <td>0</td>\n",
       "      <td>0</td>\n",
       "      <td>1</td>\n",
       "      <td>0</td>\n",
       "    </tr>\n",
       "    <tr>\n",
       "      <th>99998</th>\n",
       "      <td>0</td>\n",
       "      <td>1</td>\n",
       "      <td>0</td>\n",
       "      <td>0</td>\n",
       "      <td>0</td>\n",
       "      <td>0</td>\n",
       "      <td>0</td>\n",
       "      <td>1</td>\n",
       "      <td>0</td>\n",
       "      <td>0</td>\n",
       "      <td>...</td>\n",
       "      <td>0</td>\n",
       "      <td>0</td>\n",
       "      <td>0</td>\n",
       "      <td>0</td>\n",
       "      <td>0</td>\n",
       "      <td>0</td>\n",
       "      <td>0</td>\n",
       "      <td>0</td>\n",
       "      <td>0</td>\n",
       "      <td>1</td>\n",
       "    </tr>\n",
       "    <tr>\n",
       "      <th>99999</th>\n",
       "      <td>0</td>\n",
       "      <td>1</td>\n",
       "      <td>0</td>\n",
       "      <td>0</td>\n",
       "      <td>0</td>\n",
       "      <td>0</td>\n",
       "      <td>0</td>\n",
       "      <td>1</td>\n",
       "      <td>0</td>\n",
       "      <td>0</td>\n",
       "      <td>...</td>\n",
       "      <td>0</td>\n",
       "      <td>0</td>\n",
       "      <td>0</td>\n",
       "      <td>0</td>\n",
       "      <td>0</td>\n",
       "      <td>0</td>\n",
       "      <td>0</td>\n",
       "      <td>0</td>\n",
       "      <td>0</td>\n",
       "      <td>1</td>\n",
       "    </tr>\n",
       "  </tbody>\n",
       "</table>\n",
       "<p>100000 rows × 49 columns</p>\n",
       "</div>"
      ],
      "text/plain": [
       "       language_Native  language_Native + English  \\\n",
       "0                    0                          0   \n",
       "1                    0                          1   \n",
       "2                    1                          0   \n",
       "3                    0                          1   \n",
       "4                    0                          1   \n",
       "...                ...                        ...   \n",
       "99995                1                          0   \n",
       "99996                0                          0   \n",
       "99997                0                          0   \n",
       "99998                0                          1   \n",
       "99999                0                          1   \n",
       "\n",
       "       language_Native + English + French  language_Native + French  \\\n",
       "0                                       0                         1   \n",
       "1                                       0                         0   \n",
       "2                                       0                         0   \n",
       "3                                       0                         0   \n",
       "4                                       0                         0   \n",
       "...                                   ...                       ...   \n",
       "99995                                   0                         0   \n",
       "99996                                   0                         1   \n",
       "99997                                   1                         0   \n",
       "99998                                   0                         0   \n",
       "99999                                   0                         0   \n",
       "\n",
       "       education_level_Associate Degree  education_level_High School  \\\n",
       "0                                     0                            1   \n",
       "1                                     0                            1   \n",
       "2                                     0                            0   \n",
       "3                                     0                            0   \n",
       "4                                     0                            1   \n",
       "...                                 ...                          ...   \n",
       "99995                                 0                            0   \n",
       "99996                                 0                            1   \n",
       "99997                                 1                            0   \n",
       "99998                                 0                            0   \n",
       "99999                                 0                            0   \n",
       "\n",
       "       education_level_Masters  education_level_No Education  \\\n",
       "0                            0                             0   \n",
       "1                            0                             0   \n",
       "2                            0                             0   \n",
       "3                            0                             0   \n",
       "4                            0                             0   \n",
       "...                        ...                           ...   \n",
       "99995                        0                             0   \n",
       "99996                        0                             0   \n",
       "99997                        0                             0   \n",
       "99998                        0                             1   \n",
       "99999                        0                             1   \n",
       "\n",
       "       education_level_PhD  education_level_Primary  ...  \\\n",
       "0                        0                        0  ...   \n",
       "1                        0                        0  ...   \n",
       "2                        0                        1  ...   \n",
       "3                        0                        1  ...   \n",
       "4                        0                        0  ...   \n",
       "...                    ...                      ...  ...   \n",
       "99995                    0                        0  ...   \n",
       "99996                    0                        0  ...   \n",
       "99997                    0                        0  ...   \n",
       "99998                    0                        0  ...   \n",
       "99999                    0                        0  ...   \n",
       "\n",
       "       last_occupation_Nurses and Personal Carers  \\\n",
       "0                                               0   \n",
       "1                                               0   \n",
       "2                                               0   \n",
       "3                                               0   \n",
       "4                                               0   \n",
       "...                                           ...   \n",
       "99995                                           0   \n",
       "99996                                           0   \n",
       "99997                                           0   \n",
       "99998                                           0   \n",
       "99999                                           0   \n",
       "\n",
       "       last_occupation_Petroleum Engineer  \\\n",
       "0                                       0   \n",
       "1                                       0   \n",
       "2                                       0   \n",
       "3                                       0   \n",
       "4                                       0   \n",
       "...                                   ...   \n",
       "99995                                   0   \n",
       "99996                                   0   \n",
       "99997                                   0   \n",
       "99998                                   0   \n",
       "99999                                   0   \n",
       "\n",
       "       last_occupation_Pharmaceutical Professional  \\\n",
       "0                                                0   \n",
       "1                                                0   \n",
       "2                                                0   \n",
       "3                                                0   \n",
       "4                                                0   \n",
       "...                                            ...   \n",
       "99995                                            0   \n",
       "99996                                            0   \n",
       "99997                                            0   \n",
       "99998                                            0   \n",
       "99999                                            0   \n",
       "\n",
       "       last_occupation_Physical Therapist  last_occupation_Sales Professional  \\\n",
       "0                                       0                                   0   \n",
       "1                                       0                                   0   \n",
       "2                                       0                                   0   \n",
       "3                                       0                                   0   \n",
       "4                                       0                                   0   \n",
       "...                                   ...                                 ...   \n",
       "99995                                   0                                   1   \n",
       "99996                                   0                                   0   \n",
       "99997                                   0                                   0   \n",
       "99998                                   0                                   0   \n",
       "99999                                   0                                   0   \n",
       "\n",
       "       last_occupation_Software Developer  \\\n",
       "0                                       0   \n",
       "1                                       0   \n",
       "2                                       0   \n",
       "3                                       0   \n",
       "4                                       0   \n",
       "...                                   ...   \n",
       "99995                                   0   \n",
       "99996                                   0   \n",
       "99997                                   0   \n",
       "99998                                   0   \n",
       "99999                                   0   \n",
       "\n",
       "       last_occupation_University Lecturer  last_occupation_Vet  \\\n",
       "0                                        0                    0   \n",
       "1                                        0                    0   \n",
       "2                                        0                    0   \n",
       "3                                        0                    0   \n",
       "4                                        0                    0   \n",
       "...                                    ...                  ...   \n",
       "99995                                    0                    0   \n",
       "99996                                    0                    0   \n",
       "99997                                    0                    0   \n",
       "99998                                    0                    0   \n",
       "99999                                    0                    0   \n",
       "\n",
       "       qualified_for_unhcr_mandatory_contribution_accepted  \\\n",
       "0                                                      0     \n",
       "1                                                      0     \n",
       "2                                                      0     \n",
       "3                                                      0     \n",
       "4                                                      0     \n",
       "...                                                  ...     \n",
       "99995                                                  1     \n",
       "99996                                                  0     \n",
       "99997                                                  1     \n",
       "99998                                                  0     \n",
       "99999                                                  0     \n",
       "\n",
       "       qualified_for_unhcr_mandatory_contribution_not accepted  \n",
       "0                                                      1        \n",
       "1                                                      1        \n",
       "2                                                      1        \n",
       "3                                                      1        \n",
       "4                                                      1        \n",
       "...                                                  ...        \n",
       "99995                                                  0        \n",
       "99996                                                  1        \n",
       "99997                                                  0        \n",
       "99998                                                  1        \n",
       "99999                                                  1        \n",
       "\n",
       "[100000 rows x 49 columns]"
      ]
     },
     "execution_count": 58,
     "metadata": {},
     "output_type": "execute_result"
    }
   ],
   "source": [
    "add_columns1"
   ]
  },
  {
   "cell_type": "code",
   "execution_count": 59,
   "id": "a369283c",
   "metadata": {},
   "outputs": [],
   "source": [
    "add_columns2 = add_columns2[np.all(np.isfinite(add_columns2), axis=1)]"
   ]
  },
  {
   "cell_type": "code",
   "execution_count": 60,
   "id": "a46b7e0d",
   "metadata": {},
   "outputs": [],
   "source": [
    "#making the features and target labels"
   ]
  },
  {
   "cell_type": "code",
   "execution_count": 61,
   "id": "e8fea664",
   "metadata": {},
   "outputs": [],
   "source": [
    "X = df1.drop(['qualified_for_unhcr_mandatory_contribution'], axis=1) \n",
    "y = df1['qualified_for_unhcr_mandatory_contribution']"
   ]
  },
  {
   "cell_type": "code",
   "execution_count": 62,
   "id": "fc1125bb",
   "metadata": {
    "scrolled": true
   },
   "outputs": [],
   "source": [
    "X = add_columns1.drop(['qualified_for_unhcr_mandatory_contribution_accepted', 'qualified_for_unhcr_mandatory_contribution_not accepted'], axis=1) #add_columns\n",
    "y = add_columns1[['qualified_for_unhcr_mandatory_contribution_accepted', 'qualified_for_unhcr_mandatory_contribution_not accepted']]"
   ]
  },
  {
   "cell_type": "code",
   "execution_count": 63,
   "id": "7f2ab88b",
   "metadata": {
    "scrolled": true
   },
   "outputs": [
    {
     "data": {
      "text/plain": [
       "<AxesSubplot:ylabel='None'>"
      ]
     },
     "execution_count": 63,
     "metadata": {},
     "output_type": "execute_result"
    },
    {
     "data": {
      "image/png": "[encoded data removed]",
      "text/plain": [
       "<Figure size 432x288 with 1 Axes>"
      ]
     },
     "metadata": {},
     "output_type": "display_data"
    }
   ],
   "source": [
    "#Showing Piechart\n",
    "y.value_counts().plot.pie(autopct='%.2f')"
   ]
  },
  {
   "cell_type": "code",
   "execution_count": 64,
   "id": "eadcb25d",
   "metadata": {},
   "outputs": [],
   "source": [
    "#Trying to balance the minority by random undersmapling of the majority class"
   ]
  },
  {
   "cell_type": "code",
   "execution_count": 65,
   "id": "1a18a538",
   "metadata": {},
   "outputs": [
    {
     "ename": "AttributeError",
     "evalue": "'DataFrame' object has no attribute 'argmax'",
     "output_type": "error",
     "traceback": [
      "\u001b[1;31m----------------------------------------------------------------------\u001b[0m",
      "\u001b[1;31mAttributeError\u001b[0m                       Traceback (most recent call last)",
      "Input \u001b[1;32mIn [65]\u001b[0m, in \u001b[0;36m<cell line: 6>\u001b[1;34m()\u001b[0m\n\u001b[0;32m      3\u001b[0m \u001b[38;5;66;03m#randomUnderSample = RandomUnderSampler(sampling_strategy=1) #for Float\u001b[39;00m\n\u001b[0;32m      4\u001b[0m randomUnderSample \u001b[38;5;241m=\u001b[39m RandomUnderSampler(sampling_strategy\u001b[38;5;241m=\u001b[39m\u001b[38;5;124m\"\u001b[39m\u001b[38;5;124mnot minority\u001b[39m\u001b[38;5;124m\"\u001b[39m) \u001b[38;5;66;03m#for string\u001b[39;00m\n\u001b[1;32m----> 6\u001b[0m X_resample, y_resample \u001b[38;5;241m=\u001b[39m \u001b[43mrandomUnderSample\u001b[49m\u001b[38;5;241;43m.\u001b[39;49m\u001b[43mfit_resample\u001b[49m\u001b[43m(\u001b[49m\u001b[43mX\u001b[49m\u001b[43m,\u001b[49m\u001b[43m \u001b[49m\u001b[43my\u001b[49m\u001b[43m)\u001b[49m\n",
      "File \u001b[1;32m~\\Envs\\acceptance_venv\\lib\\site-packages\\imblearn\\base.py:77\u001b[0m, in \u001b[0;36mSamplerMixin.fit_resample\u001b[1;34m(self, X, y)\u001b[0m\n\u001b[0;32m     75\u001b[0m check_classification_targets(y)\n\u001b[0;32m     76\u001b[0m arrays_transformer \u001b[38;5;241m=\u001b[39m ArraysTransformer(X, y)\n\u001b[1;32m---> 77\u001b[0m X, y, binarize_y \u001b[38;5;241m=\u001b[39m \u001b[38;5;28;43mself\u001b[39;49m\u001b[38;5;241;43m.\u001b[39;49m\u001b[43m_check_X_y\u001b[49m\u001b[43m(\u001b[49m\u001b[43mX\u001b[49m\u001b[43m,\u001b[49m\u001b[43m \u001b[49m\u001b[43my\u001b[49m\u001b[43m)\u001b[49m\n\u001b[0;32m     79\u001b[0m \u001b[38;5;28mself\u001b[39m\u001b[38;5;241m.\u001b[39msampling_strategy_ \u001b[38;5;241m=\u001b[39m check_sampling_strategy(\n\u001b[0;32m     80\u001b[0m     \u001b[38;5;28mself\u001b[39m\u001b[38;5;241m.\u001b[39msampling_strategy, y, \u001b[38;5;28mself\u001b[39m\u001b[38;5;241m.\u001b[39m_sampling_type\n\u001b[0;32m     81\u001b[0m )\n\u001b[0;32m     83\u001b[0m output \u001b[38;5;241m=\u001b[39m \u001b[38;5;28mself\u001b[39m\u001b[38;5;241m.\u001b[39m_fit_resample(X, y)\n",
      "File \u001b[1;32m~\\Envs\\acceptance_venv\\lib\\site-packages\\imblearn\\under_sampling\\_prototype_selection\\_random_under_sampler.py:93\u001b[0m, in \u001b[0;36mRandomUnderSampler._check_X_y\u001b[1;34m(self, X, y)\u001b[0m\n\u001b[0;32m     92\u001b[0m \u001b[38;5;28;01mdef\u001b[39;00m \u001b[38;5;21m_check_X_y\u001b[39m(\u001b[38;5;28mself\u001b[39m, X, y):\n\u001b[1;32m---> 93\u001b[0m     y, binarize_y \u001b[38;5;241m=\u001b[39m \u001b[43mcheck_target_type\u001b[49m\u001b[43m(\u001b[49m\u001b[43my\u001b[49m\u001b[43m,\u001b[49m\u001b[43m \u001b[49m\u001b[43mindicate_one_vs_all\u001b[49m\u001b[38;5;241;43m=\u001b[39;49m\u001b[38;5;28;43;01mTrue\u001b[39;49;00m\u001b[43m)\u001b[49m\n\u001b[0;32m     94\u001b[0m     X, y \u001b[38;5;241m=\u001b[39m \u001b[38;5;28mself\u001b[39m\u001b[38;5;241m.\u001b[39m_validate_data(\n\u001b[0;32m     95\u001b[0m         X,\n\u001b[0;32m     96\u001b[0m         y,\n\u001b[1;32m   (...)\u001b[0m\n\u001b[0;32m    100\u001b[0m         force_all_finite\u001b[38;5;241m=\u001b[39m\u001b[38;5;28;01mFalse\u001b[39;00m,\n\u001b[0;32m    101\u001b[0m     )\n\u001b[0;32m    102\u001b[0m     \u001b[38;5;28;01mreturn\u001b[39;00m X, y, binarize_y\n",
      "File \u001b[1;32m~\\Envs\\acceptance_venv\\lib\\site-packages\\imblearn\\utils\\_validation.py:138\u001b[0m, in \u001b[0;36mcheck_target_type\u001b[1;34m(y, indicate_one_vs_all)\u001b[0m\n\u001b[0;32m    132\u001b[0m     \u001b[38;5;28;01mif\u001b[39;00m np\u001b[38;5;241m.\u001b[39many(y\u001b[38;5;241m.\u001b[39msum(axis\u001b[38;5;241m=\u001b[39m\u001b[38;5;241m1\u001b[39m) \u001b[38;5;241m>\u001b[39m \u001b[38;5;241m1\u001b[39m):\n\u001b[0;32m    133\u001b[0m         \u001b[38;5;28;01mraise\u001b[39;00m \u001b[38;5;167;01mValueError\u001b[39;00m(\n\u001b[0;32m    134\u001b[0m             \u001b[38;5;124m\"\u001b[39m\u001b[38;5;124mImbalanced-learn currently supports binary, multiclass and \u001b[39m\u001b[38;5;124m\"\u001b[39m\n\u001b[0;32m    135\u001b[0m             \u001b[38;5;124m\"\u001b[39m\u001b[38;5;124mbinarized encoded multiclasss targets. Multilabel and \u001b[39m\u001b[38;5;124m\"\u001b[39m\n\u001b[0;32m    136\u001b[0m             \u001b[38;5;124m\"\u001b[39m\u001b[38;5;124mmultioutput targets are not supported.\u001b[39m\u001b[38;5;124m\"\u001b[39m\n\u001b[0;32m    137\u001b[0m         )\n\u001b[1;32m--> 138\u001b[0m     y \u001b[38;5;241m=\u001b[39m \u001b[43my\u001b[49m\u001b[38;5;241;43m.\u001b[39;49m\u001b[43margmax\u001b[49m(axis\u001b[38;5;241m=\u001b[39m\u001b[38;5;241m1\u001b[39m)\n\u001b[0;32m    139\u001b[0m \u001b[38;5;28;01melse\u001b[39;00m:\n\u001b[0;32m    140\u001b[0m     y \u001b[38;5;241m=\u001b[39m column_or_1d(y)\n",
      "File \u001b[1;32m~\\Envs\\acceptance_venv\\lib\\site-packages\\pandas\\core\\generic.py:5575\u001b[0m, in \u001b[0;36mNDFrame.__getattr__\u001b[1;34m(self, name)\u001b[0m\n\u001b[0;32m   5568\u001b[0m \u001b[38;5;28;01mif\u001b[39;00m (\n\u001b[0;32m   5569\u001b[0m     name \u001b[38;5;129;01mnot\u001b[39;00m \u001b[38;5;129;01min\u001b[39;00m \u001b[38;5;28mself\u001b[39m\u001b[38;5;241m.\u001b[39m_internal_names_set\n\u001b[0;32m   5570\u001b[0m     \u001b[38;5;129;01mand\u001b[39;00m name \u001b[38;5;129;01mnot\u001b[39;00m \u001b[38;5;129;01min\u001b[39;00m \u001b[38;5;28mself\u001b[39m\u001b[38;5;241m.\u001b[39m_metadata\n\u001b[0;32m   5571\u001b[0m     \u001b[38;5;129;01mand\u001b[39;00m name \u001b[38;5;129;01mnot\u001b[39;00m \u001b[38;5;129;01min\u001b[39;00m \u001b[38;5;28mself\u001b[39m\u001b[38;5;241m.\u001b[39m_accessors\n\u001b[0;32m   5572\u001b[0m     \u001b[38;5;129;01mand\u001b[39;00m \u001b[38;5;28mself\u001b[39m\u001b[38;5;241m.\u001b[39m_info_axis\u001b[38;5;241m.\u001b[39m_can_hold_identifiers_and_holds_name(name)\n\u001b[0;32m   5573\u001b[0m ):\n\u001b[0;32m   5574\u001b[0m     \u001b[38;5;28;01mreturn\u001b[39;00m \u001b[38;5;28mself\u001b[39m[name]\n\u001b[1;32m-> 5575\u001b[0m \u001b[38;5;28;01mreturn\u001b[39;00m \u001b[38;5;28;43mobject\u001b[39;49m\u001b[38;5;241;43m.\u001b[39;49m\u001b[38;5;21;43m__getattribute__\u001b[39;49m\u001b[43m(\u001b[49m\u001b[38;5;28;43mself\u001b[39;49m\u001b[43m,\u001b[49m\u001b[43m \u001b[49m\u001b[43mname\u001b[49m\u001b[43m)\u001b[49m\n",
      "\u001b[1;31mAttributeError\u001b[0m: 'DataFrame' object has no attribute 'argmax'"
     ]
    }
   ],
   "source": [
    "from imblearn.under_sampling import RandomUnderSampler\n",
    "\n",
    "#randomUnderSample = RandomUnderSampler(sampling_strategy=1) #for Float\n",
    "randomUnderSample = RandomUnderSampler(sampling_strategy=\"not minority\") #for string\n",
    "\n",
    "X_resample, y_resample = randomUnderSample.fit_resample(X, y)\n",
    "\n",
    "#ax = y_resample.value_counts().plot.pie(autopct='%.2f')\n",
    "#_=ax.set_title('Random Under Sampling')"
   ]
  },
  {
   "cell_type": "code",
   "execution_count": 66,
   "id": "e81b5920",
   "metadata": {},
   "outputs": [],
   "source": [
    "#Class Distribution"
   ]
  },
  {
   "cell_type": "code",
   "execution_count": 67,
   "id": "66e45cf6",
   "metadata": {},
   "outputs": [
    {
     "ename": "NameError",
     "evalue": "name 'y_resample' is not defined",
     "output_type": "error",
     "traceback": [
      "\u001b[1;31m----------------------------------------------------------------------\u001b[0m",
      "\u001b[1;31mNameError\u001b[0m                            Traceback (most recent call last)",
      "Input \u001b[1;32mIn [67]\u001b[0m, in \u001b[0;36m<cell line: 1>\u001b[1;34m()\u001b[0m\n\u001b[1;32m----> 1\u001b[0m \u001b[43my_resample\u001b[49m\u001b[38;5;241m.\u001b[39mvalue_counts()\n",
      "\u001b[1;31mNameError\u001b[0m: name 'y_resample' is not defined"
     ]
    }
   ],
   "source": [
    "y_resample.value_counts()"
   ]
  },
  {
   "cell_type": "code",
   "execution_count": 68,
   "id": "8f6a2149",
   "metadata": {
    "scrolled": false
   },
   "outputs": [],
   "source": [
    "#Trying to balance the minority by random oversmapling the minority class"
   ]
  },
  {
   "cell_type": "code",
   "execution_count": 69,
   "id": "e6628e3f",
   "metadata": {},
   "outputs": [
    {
     "ename": "AttributeError",
     "evalue": "'DataFrame' object has no attribute 'argmax'",
     "output_type": "error",
     "traceback": [
      "\u001b[1;31m----------------------------------------------------------------------\u001b[0m",
      "\u001b[1;31mAttributeError\u001b[0m                       Traceback (most recent call last)",
      "Input \u001b[1;32mIn [69]\u001b[0m, in \u001b[0;36m<cell line: 6>\u001b[1;34m()\u001b[0m\n\u001b[0;32m      3\u001b[0m \u001b[38;5;66;03m#randoverS = RandomOVerSampler(sampling_strategy=1) #Float\u001b[39;00m\n\u001b[0;32m      4\u001b[0m randoverS \u001b[38;5;241m=\u001b[39m RandomOverSampler(sampling_strategy\u001b[38;5;241m=\u001b[39m\u001b[38;5;124m\"\u001b[39m\u001b[38;5;124mnot majority\u001b[39m\u001b[38;5;124m\"\u001b[39m) \u001b[38;5;66;03m#String\u001b[39;00m\n\u001b[1;32m----> 6\u001b[0m X_resample, y_resample \u001b[38;5;241m=\u001b[39m \u001b[43mrandoverS\u001b[49m\u001b[38;5;241;43m.\u001b[39;49m\u001b[43mfit_resample\u001b[49m\u001b[43m(\u001b[49m\u001b[43mX\u001b[49m\u001b[43m,\u001b[49m\u001b[43m \u001b[49m\u001b[43my\u001b[49m\u001b[43m)\u001b[49m\n\u001b[0;32m      8\u001b[0m ax \u001b[38;5;241m=\u001b[39m y_resample\u001b[38;5;241m.\u001b[39mvalue_counts()\u001b[38;5;241m.\u001b[39mplot\u001b[38;5;241m.\u001b[39mpie(autopct\u001b[38;5;241m=\u001b[39m\u001b[38;5;124m'\u001b[39m\u001b[38;5;132;01m%.2f\u001b[39;00m\u001b[38;5;124m'\u001b[39m)\n\u001b[0;32m      9\u001b[0m _\u001b[38;5;241m=\u001b[39max\u001b[38;5;241m.\u001b[39mset_title(\u001b[38;5;124m\"\u001b[39m\u001b[38;5;124mRandom Under Sampling\u001b[39m\u001b[38;5;124m\"\u001b[39m)\n",
      "File \u001b[1;32m~\\Envs\\acceptance_venv\\lib\\site-packages\\imblearn\\base.py:77\u001b[0m, in \u001b[0;36mSamplerMixin.fit_resample\u001b[1;34m(self, X, y)\u001b[0m\n\u001b[0;32m     75\u001b[0m check_classification_targets(y)\n\u001b[0;32m     76\u001b[0m arrays_transformer \u001b[38;5;241m=\u001b[39m ArraysTransformer(X, y)\n\u001b[1;32m---> 77\u001b[0m X, y, binarize_y \u001b[38;5;241m=\u001b[39m \u001b[38;5;28;43mself\u001b[39;49m\u001b[38;5;241;43m.\u001b[39;49m\u001b[43m_check_X_y\u001b[49m\u001b[43m(\u001b[49m\u001b[43mX\u001b[49m\u001b[43m,\u001b[49m\u001b[43m \u001b[49m\u001b[43my\u001b[49m\u001b[43m)\u001b[49m\n\u001b[0;32m     79\u001b[0m \u001b[38;5;28mself\u001b[39m\u001b[38;5;241m.\u001b[39msampling_strategy_ \u001b[38;5;241m=\u001b[39m check_sampling_strategy(\n\u001b[0;32m     80\u001b[0m     \u001b[38;5;28mself\u001b[39m\u001b[38;5;241m.\u001b[39msampling_strategy, y, \u001b[38;5;28mself\u001b[39m\u001b[38;5;241m.\u001b[39m_sampling_type\n\u001b[0;32m     81\u001b[0m )\n\u001b[0;32m     83\u001b[0m output \u001b[38;5;241m=\u001b[39m \u001b[38;5;28mself\u001b[39m\u001b[38;5;241m.\u001b[39m_fit_resample(X, y)\n",
      "File \u001b[1;32m~\\Envs\\acceptance_venv\\lib\\site-packages\\imblearn\\over_sampling\\_random_over_sampler.py:149\u001b[0m, in \u001b[0;36mRandomOverSampler._check_X_y\u001b[1;34m(self, X, y)\u001b[0m\n\u001b[0;32m    148\u001b[0m \u001b[38;5;28;01mdef\u001b[39;00m \u001b[38;5;21m_check_X_y\u001b[39m(\u001b[38;5;28mself\u001b[39m, X, y):\n\u001b[1;32m--> 149\u001b[0m     y, binarize_y \u001b[38;5;241m=\u001b[39m \u001b[43mcheck_target_type\u001b[49m\u001b[43m(\u001b[49m\u001b[43my\u001b[49m\u001b[43m,\u001b[49m\u001b[43m \u001b[49m\u001b[43mindicate_one_vs_all\u001b[49m\u001b[38;5;241;43m=\u001b[39;49m\u001b[38;5;28;43;01mTrue\u001b[39;49;00m\u001b[43m)\u001b[49m\n\u001b[0;32m    150\u001b[0m     X, y \u001b[38;5;241m=\u001b[39m \u001b[38;5;28mself\u001b[39m\u001b[38;5;241m.\u001b[39m_validate_data(\n\u001b[0;32m    151\u001b[0m         X,\n\u001b[0;32m    152\u001b[0m         y,\n\u001b[1;32m   (...)\u001b[0m\n\u001b[0;32m    156\u001b[0m         force_all_finite\u001b[38;5;241m=\u001b[39m\u001b[38;5;28;01mFalse\u001b[39;00m,\n\u001b[0;32m    157\u001b[0m     )\n\u001b[0;32m    158\u001b[0m     \u001b[38;5;28;01mreturn\u001b[39;00m X, y, binarize_y\n",
      "File \u001b[1;32m~\\Envs\\acceptance_venv\\lib\\site-packages\\imblearn\\utils\\_validation.py:138\u001b[0m, in \u001b[0;36mcheck_target_type\u001b[1;34m(y, indicate_one_vs_all)\u001b[0m\n\u001b[0;32m    132\u001b[0m     \u001b[38;5;28;01mif\u001b[39;00m np\u001b[38;5;241m.\u001b[39many(y\u001b[38;5;241m.\u001b[39msum(axis\u001b[38;5;241m=\u001b[39m\u001b[38;5;241m1\u001b[39m) \u001b[38;5;241m>\u001b[39m \u001b[38;5;241m1\u001b[39m):\n\u001b[0;32m    133\u001b[0m         \u001b[38;5;28;01mraise\u001b[39;00m \u001b[38;5;167;01mValueError\u001b[39;00m(\n\u001b[0;32m    134\u001b[0m             \u001b[38;5;124m\"\u001b[39m\u001b[38;5;124mImbalanced-learn currently supports binary, multiclass and \u001b[39m\u001b[38;5;124m\"\u001b[39m\n\u001b[0;32m    135\u001b[0m             \u001b[38;5;124m\"\u001b[39m\u001b[38;5;124mbinarized encoded multiclasss targets. Multilabel and \u001b[39m\u001b[38;5;124m\"\u001b[39m\n\u001b[0;32m    136\u001b[0m             \u001b[38;5;124m\"\u001b[39m\u001b[38;5;124mmultioutput targets are not supported.\u001b[39m\u001b[38;5;124m\"\u001b[39m\n\u001b[0;32m    137\u001b[0m         )\n\u001b[1;32m--> 138\u001b[0m     y \u001b[38;5;241m=\u001b[39m \u001b[43my\u001b[49m\u001b[38;5;241;43m.\u001b[39;49m\u001b[43margmax\u001b[49m(axis\u001b[38;5;241m=\u001b[39m\u001b[38;5;241m1\u001b[39m)\n\u001b[0;32m    139\u001b[0m \u001b[38;5;28;01melse\u001b[39;00m:\n\u001b[0;32m    140\u001b[0m     y \u001b[38;5;241m=\u001b[39m column_or_1d(y)\n",
      "File \u001b[1;32m~\\Envs\\acceptance_venv\\lib\\site-packages\\pandas\\core\\generic.py:5575\u001b[0m, in \u001b[0;36mNDFrame.__getattr__\u001b[1;34m(self, name)\u001b[0m\n\u001b[0;32m   5568\u001b[0m \u001b[38;5;28;01mif\u001b[39;00m (\n\u001b[0;32m   5569\u001b[0m     name \u001b[38;5;129;01mnot\u001b[39;00m \u001b[38;5;129;01min\u001b[39;00m \u001b[38;5;28mself\u001b[39m\u001b[38;5;241m.\u001b[39m_internal_names_set\n\u001b[0;32m   5570\u001b[0m     \u001b[38;5;129;01mand\u001b[39;00m name \u001b[38;5;129;01mnot\u001b[39;00m \u001b[38;5;129;01min\u001b[39;00m \u001b[38;5;28mself\u001b[39m\u001b[38;5;241m.\u001b[39m_metadata\n\u001b[0;32m   5571\u001b[0m     \u001b[38;5;129;01mand\u001b[39;00m name \u001b[38;5;129;01mnot\u001b[39;00m \u001b[38;5;129;01min\u001b[39;00m \u001b[38;5;28mself\u001b[39m\u001b[38;5;241m.\u001b[39m_accessors\n\u001b[0;32m   5572\u001b[0m     \u001b[38;5;129;01mand\u001b[39;00m \u001b[38;5;28mself\u001b[39m\u001b[38;5;241m.\u001b[39m_info_axis\u001b[38;5;241m.\u001b[39m_can_hold_identifiers_and_holds_name(name)\n\u001b[0;32m   5573\u001b[0m ):\n\u001b[0;32m   5574\u001b[0m     \u001b[38;5;28;01mreturn\u001b[39;00m \u001b[38;5;28mself\u001b[39m[name]\n\u001b[1;32m-> 5575\u001b[0m \u001b[38;5;28;01mreturn\u001b[39;00m \u001b[38;5;28;43mobject\u001b[39;49m\u001b[38;5;241;43m.\u001b[39;49m\u001b[38;5;21;43m__getattribute__\u001b[39;49m\u001b[43m(\u001b[49m\u001b[38;5;28;43mself\u001b[39;49m\u001b[43m,\u001b[49m\u001b[43m \u001b[49m\u001b[43mname\u001b[49m\u001b[43m)\u001b[49m\n",
      "\u001b[1;31mAttributeError\u001b[0m: 'DataFrame' object has no attribute 'argmax'"
     ]
    }
   ],
   "source": [
    "from imblearn.over_sampling import RandomOverSampler\n",
    "\n",
    "#randoverS = RandomOVerSampler(sampling_strategy=1) #Float\n",
    "randoverS = RandomOverSampler(sampling_strategy=\"not majority\") #String\n",
    "\n",
    "X_resample, y_resample = randoverS.fit_resample(X, y)\n",
    "\n",
    "ax = y_resample.value_counts().plot.pie(autopct='%.2f')\n",
    "_=ax.set_title(\"Random Under Sampling\")"
   ]
  },
  {
   "cell_type": "code",
   "execution_count": 70,
   "id": "582eb6c4",
   "metadata": {},
   "outputs": [],
   "source": [
    "#Class Distribution"
   ]
  },
  {
   "cell_type": "code",
   "execution_count": 71,
   "id": "a20e7db7",
   "metadata": {},
   "outputs": [
    {
     "ename": "NameError",
     "evalue": "name 'y_resample' is not defined",
     "output_type": "error",
     "traceback": [
      "\u001b[1;31m----------------------------------------------------------------------\u001b[0m",
      "\u001b[1;31mNameError\u001b[0m                            Traceback (most recent call last)",
      "Input \u001b[1;32mIn [71]\u001b[0m, in \u001b[0;36m<cell line: 1>\u001b[1;34m()\u001b[0m\n\u001b[1;32m----> 1\u001b[0m \u001b[43my_resample\u001b[49m\u001b[38;5;241m.\u001b[39mvalue_counts()\n",
      "\u001b[1;31mNameError\u001b[0m: name 'y_resample' is not defined"
     ]
    }
   ],
   "source": [
    "y_resample.value_counts()"
   ]
  },
  {
   "cell_type": "code",
   "execution_count": null,
   "id": "021cbfdf",
   "metadata": {},
   "outputs": [],
   "source": []
  },
  {
   "cell_type": "code",
   "execution_count": 72,
   "id": "eadd4d61",
   "metadata": {
    "scrolled": true
   },
   "outputs": [],
   "source": [
    "#OneHotEncoding for the resampled X and "
   ]
  },
  {
   "cell_type": "code",
   "execution_count": null,
   "id": "a38bfc5c",
   "metadata": {},
   "outputs": [],
   "source": [
    "add_columns3 = pd.get_dummies(X_resample, columns=['language','education_level', 'last_occupation'])"
   ]
  },
  {
   "cell_type": "code",
   "execution_count": null,
   "id": "3361acb6",
   "metadata": {},
   "outputs": [],
   "source": [
    "add_columns4 = pd.get_dummies(y_resample, columns=['qualified_for_unhcr_mandatory_contribution'])"
   ]
  },
  {
   "cell_type": "code",
   "execution_count": null,
   "id": "eef5c4a3",
   "metadata": {},
   "outputs": [],
   "source": [
    "add_columns5 = add_columns3.join(add_columns4)"
   ]
  },
  {
   "cell_type": "code",
   "execution_count": null,
   "id": "a8f3d287",
   "metadata": {},
   "outputs": [],
   "source": [
    "add_columns5"
   ]
  },
  {
   "cell_type": "code",
   "execution_count": null,
   "id": "42f6e700",
   "metadata": {},
   "outputs": [],
   "source": [
    "add_columns5.columns"
   ]
  },
  {
   "cell_type": "code",
   "execution_count": null,
   "id": "ecb0f5ca",
   "metadata": {},
   "outputs": [],
   "source": [
    "add_columns5 = add_columns[np.all(np.isfinite(add_columns), axis=1)]"
   ]
  },
  {
   "cell_type": "code",
   "execution_count": null,
   "id": "35a9d5fb",
   "metadata": {},
   "outputs": [],
   "source": [
    "# split the dataset\n",
    "X_train, X_test, y_train, y_test = train_test_split(\n",
    "    X_resample, y_resample, test_size=0.20, random_state=0)"
   ]
  },
  {
   "cell_type": "code",
   "execution_count": null,
   "id": "644b4083",
   "metadata": {
    "scrolled": true
   },
   "outputs": [],
   "source": [
    "add_columns = add_columns[np.all(np.isfinite(add_columns), axis=1)]"
   ]
  },
  {
   "cell_type": "code",
   "execution_count": null,
   "id": "36003e0d",
   "metadata": {},
   "outputs": [],
   "source": [
    "print(\"shape of input - training set\", X_train.shape)\n",
    "print(\"shape of output - training set\", y_train.shape)\n",
    "print(\"shape of input - testing set\", X_test.shape)\n",
    "print(\"shape of output - testing set\", y_test.shape)"
   ]
  },
  {
   "cell_type": "code",
   "execution_count": null,
   "id": "f2762717",
   "metadata": {},
   "outputs": [],
   "source": []
  },
  {
   "cell_type": "code",
   "execution_count": null,
   "id": "0de48bce",
   "metadata": {},
   "outputs": [],
   "source": [
    "from sklearn.preprocessing import StandardScaler\n",
    "sc = StandardScaler()\n",
    "X_train = sc.fit_transform(X_train)\n",
    "X_test = sc.transform(X_test)"
   ]
  },
  {
   "cell_type": "code",
   "execution_count": null,
   "id": "7aa6a095",
   "metadata": {},
   "outputs": [],
   "source": [
    "from sklearn.metrics import confusion_matrix, classification_report, accuracy_score"
   ]
  },
  {
   "cell_type": "code",
   "execution_count": null,
   "id": "a870c08e",
   "metadata": {},
   "outputs": [],
   "source": [
    "~#Seperating the categorical data for onehot encoding/dummy encoding using pandas"
   ]
  },
  {
   "cell_type": "code",
   "execution_count": null,
   "id": "a8dbc9db",
   "metadata": {},
   "outputs": [],
   "source": [
    "df3 = df[['language','education_level', 'last_occupation']]\n",
    "df3.tail()"
   ]
  },
  {
   "cell_type": "code",
   "execution_count": null,
   "id": "0171c62f",
   "metadata": {},
   "outputs": [],
   "source": [
    "add_columns = pd.get_dummies(df2, columns=['language','education_level', 'last_occupation'])"
   ]
  },
  {
   "cell_type": "code",
   "execution_count": null,
   "id": "78626207",
   "metadata": {},
   "outputs": [],
   "source": [
    "add_columns.columns"
   ]
  },
  {
   "cell_type": "code",
   "execution_count": null,
   "id": "dfaff10a",
   "metadata": {},
   "outputs": [],
   "source": []
  },
  {
   "cell_type": "code",
   "execution_count": null,
   "id": "4d010d7f",
   "metadata": {},
   "outputs": [],
   "source": [
    "#splitting the data for training and testing as well as the target dataset"
   ]
  },
  {
   "cell_type": "code",
   "execution_count": null,
   "id": "ae7421fe",
   "metadata": {},
   "outputs": [],
   "source": [
    "x_train = add_columns.iloc[:,:-1]\n",
    "y_train = df2[\"qualified_for_unhcr_mandatory_contribution\"]\n",
    "\n",
    "x_test = add_columns.iloc[:,:-1]\n",
    "y_test = df2[\"qualified_for_unhcr_mandatory_contribution\"]\n",
    "\n",
    "x_test = add_columns.iloc[:,:-1]\n",
    "y_test = df2[\"qualified_for_unhcr_mandatory_contribution\"]\n",
    "\n",
    "print(\"shape of original dataset :\", df2.shape)\n",
    "print(\"shape of input - training set\", x_train.shape)\n",
    "print(\"shape of output - training set\", y_train.shape)\n",
    "print(\"shape of input - testing set\", x_test.shape)\n",
    "print(\"shape of output - testing set\", y_test.shape)"
   ]
  },
  {
   "cell_type": "code",
   "execution_count": null,
   "id": "2fd442ca",
   "metadata": {},
   "outputs": [],
   "source": [
    "#Applying Standard Scaler and fit transformation"
   ]
  },
  {
   "cell_type": "code",
   "execution_count": null,
   "id": "3e6b88b4",
   "metadata": {},
   "outputs": [],
   "source": [
    "from sklearn.preprocessing import StandardScaler\n",
    "sc = StandardScaler()\n",
    "x_train = sc.fit_transform(x_train)\n",
    "x_test = sc.transform(x_test)"
   ]
  },
  {
   "cell_type": "code",
   "execution_count": null,
   "id": "de1aee0e",
   "metadata": {},
   "outputs": [],
   "source": [
    "from sklearn.metrics import confusion_matrix, classification_report, accuracy_score"
   ]
  },
  {
   "cell_type": "code",
   "execution_count": null,
   "id": "df2814a3",
   "metadata": {},
   "outputs": [],
   "source": [
    "add_columns = add_columns[np.all(np.isfinite(add_columns), axis=1)]"
   ]
  },
  {
   "cell_type": "code",
   "execution_count": null,
   "id": "7463b8dc",
   "metadata": {},
   "outputs": [],
   "source": [
    "#Neural Network"
   ]
  },
  {
   "cell_type": "code",
   "execution_count": null,
   "id": "32dad350",
   "metadata": {},
   "outputs": [],
   "source": [
    "from sklearn.neural_network import MLPClassifier\n",
    "MLP = MLPClassifier(hidden_layer_sizes=(10,10,10), activation='relu', solver='adam', max_iter=100 ,warm_start=True)\n",
    "MLP.fit(X_train, y_train.values.ravel())"
   ]
  },
  {
   "cell_type": "code",
   "execution_count": null,
   "id": "f0bc683c",
   "metadata": {},
   "outputs": [],
   "source": [
    "prediction = MLP.predict(X_test)"
   ]
  },
  {
   "cell_type": "code",
   "execution_count": null,
   "id": "6e8fef69",
   "metadata": {},
   "outputs": [],
   "source": []
  },
  {
   "cell_type": "code",
   "execution_count": null,
   "id": "21ede9ce",
   "metadata": {},
   "outputs": [],
   "source": [
    "accuracy_score(y_test,prediction)"
   ]
  },
  {
   "cell_type": "code",
   "execution_count": null,
   "id": "6fa04daa",
   "metadata": {},
   "outputs": [],
   "source": [
    "cm = confusion_matrix(y_test, prediction)\n",
    "plt.title('Heatmap of Confusion matrix', fontsize = 12)\n",
    "sns.heatmap(cm, annot = True, fmt = \"d\")"
   ]
  },
  {
   "cell_type": "code",
   "execution_count": null,
   "id": "29199670",
   "metadata": {},
   "outputs": [],
   "source": [
    "print(classification_report(y_test, prediction))"
   ]
  },
  {
   "cell_type": "code",
   "execution_count": null,
   "id": "b0e306f5",
   "metadata": {},
   "outputs": [],
   "source": [
    "#Logestic Regrassion"
   ]
  },
  {
   "cell_type": "code",
   "execution_count": null,
   "id": "f7306df7",
   "metadata": {},
   "outputs": [],
   "source": [
    "from sklearn.linear_model import LogisticRegression\n",
    "lr = LogisticRegression(class_weight=\"balanced\")\n",
    "lr.fit(x_train, y_train)\n",
    "prediction = lr.predict(x_test)\n",
    "accuracy_score(y_test, prediction)"
   ]
  },
  {
   "cell_type": "code",
   "execution_count": null,
   "id": "b30aefc5",
   "metadata": {},
   "outputs": [],
   "source": [
    "cm = confusion_matrix(y_test, prediction)\n",
    "plt.title('Heatmap of Confusion matrix', fontsize = 12)\n",
    "sns.heatmap(cm, annot = True, fmt = \"d\")"
   ]
  },
  {
   "cell_type": "code",
   "execution_count": null,
   "id": "f69259ee",
   "metadata": {},
   "outputs": [],
   "source": [
    "print(classification_report(y_test, prediction))"
   ]
  },
  {
   "cell_type": "code",
   "execution_count": null,
   "id": "b20adb15",
   "metadata": {},
   "outputs": [],
   "source": [
    "#Using randomForest model"
   ]
  },
  {
   "cell_type": "code",
   "execution_count": null,
   "id": "9bb95c40",
   "metadata": {},
   "outputs": [],
   "source": [
    "from sklearn.ensemble import RandomForestClassifier\n",
    "rf_clas = RandomForestClassifier(n_estimators= 20, criterion= 'entropy', random_state= 51)\n",
    "rf_clas.fit(X_train, y_train)\n",
    "y_pred = rf_clas.predict(X_test)\n",
    "accuracy_score(y_test,y_pred)"
   ]
  },
  {
   "cell_type": "code",
   "execution_count": null,
   "id": "8244ea40",
   "metadata": {},
   "outputs": [],
   "source": [
    "cm = confusion_matrix(y_test,y_pred)\n",
    "plt.title('HeatMap of Confusion Matrix', fontsize = 12)\n",
    "sns.heatmap(cm, annot= True, fmt = \"d\")\n",
    "plt.show()"
   ]
  },
  {
   "cell_type": "code",
   "execution_count": null,
   "id": "83372382",
   "metadata": {},
   "outputs": [],
   "source": [
    "#Hyperparameter tuning"
   ]
  },
  {
   "cell_type": "code",
   "execution_count": null,
   "id": "cc1a4946",
   "metadata": {},
   "outputs": [],
   "source": [
    "params={\n",
    "    'max_depth': [3, 5, 10, None],\n",
    "    'n_estimators': [10, 100, 200, 300, 400, 500],\n",
    "    'max_features': [1,2,3],\n",
    "    'criterion': ['gini', 'entropy'],\n",
    "    'bootstrap': [True, False],\n",
    "    'min_samples_leaf': [1,2,3,4],\n",
    "}"
   ]
  },
  {
   "cell_type": "code",
   "execution_count": null,
   "id": "02cbc909",
   "metadata": {},
   "outputs": [],
   "source": [
    "from sklearn.model_selection import RandomizedSearchCV\n",
    "random_search = RandomizedSearchCV(rf_clas, param_distributions=params, scoring= 'roc_auc', n_jobs= -1, verbose= 3, random_state=51)\n",
    "random_search.fit(x_train, y_train)"
   ]
  },
  {
   "cell_type": "code",
   "execution_count": null,
   "id": "16f85b07",
   "metadata": {},
   "outputs": [],
   "source": [
    "random_search.best_params_"
   ]
  },
  {
   "cell_type": "code",
   "execution_count": null,
   "id": "0e070841",
   "metadata": {},
   "outputs": [],
   "source": [
    "random_search.best_estimator_"
   ]
  },
  {
   "cell_type": "code",
   "execution_count": null,
   "id": "00e6fb54",
   "metadata": {},
   "outputs": [],
   "source": [
    "#hypertuned RFClassifier"
   ]
  },
  {
   "cell_type": "code",
   "execution_count": null,
   "id": "05136564",
   "metadata": {},
   "outputs": [],
   "source": [
    "rf_clas = RandomForestClassifier(criterion='entropy', max_features=2, min_samples_leaf=4,\n",
    "                       n_estimators=300, random_state=51)\n",
    "rf_clas.fit(x_train, y_train)\n",
    "y_pred = rf_clas.predict(x_test)\n",
    "accuracy_score(y_test, y_pred)"
   ]
  },
  {
   "cell_type": "code",
   "execution_count": null,
   "id": "75a01b63",
   "metadata": {},
   "outputs": [],
   "source": [
    "cm = confusion_matrix(y_test,y_pred)\n",
    "plt.title('HeatMap of Confusion Matrix', fontsize = 12)\n",
    "sns.heatmap(cm, annot= True, fmt = \"d\")\n",
    "plt.show()"
   ]
  },
  {
   "cell_type": "code",
   "execution_count": null,
   "id": "d5e6f20e",
   "metadata": {},
   "outputs": [],
   "source": [
    "print(classification_report(y_test,y_pred))"
   ]
  },
  {
   "cell_type": "code",
   "execution_count": null,
   "id": "edeffae6",
   "metadata": {},
   "outputs": [],
   "source": [
    "#NonHypertuned but explorative RFClassifier"
   ]
  },
  {
   "cell_type": "code",
   "execution_count": null,
   "id": "0e9c5700",
   "metadata": {},
   "outputs": [],
   "source": [
    "rf_clas = RandomForestClassifier(bootstrap=True, class_weight='balanced_subsample', \n",
    "                                 criterion='entropy', max_depth=10, max_features=3,\n",
    "                                 min_samples_leaf=1, n_estimators= 500, random_state=51)\n",
    "rf_clas.fit(x_train, y_train)\n",
    "y_pred = rf_clas.predict(x_test)\n",
    "accuracy_score(y_test, y_pred)\n"
   ]
  },
  {
   "cell_type": "code",
   "execution_count": null,
   "id": "afdc1958",
   "metadata": {},
   "outputs": [],
   "source": [
    "cm = confusion_matrix(y_test,y_pred)\n",
    "plt.title('HeatMap of Confusion Matrix', fontsize = 12)\n",
    "sns.heatmap(cm, annot= True, fmt = \"d\")\n",
    "plt.show()"
   ]
  },
  {
   "cell_type": "code",
   "execution_count": null,
   "id": "2e46a49e",
   "metadata": {},
   "outputs": [],
   "source": [
    "print(classification_report(y_test,y_pred))"
   ]
  },
  {
   "cell_type": "code",
   "execution_count": null,
   "id": "00292fd8",
   "metadata": {},
   "outputs": [],
   "source": [
    "#for saving and loading the model"
   ]
  },
  {
   "cell_type": "code",
   "execution_count": null,
   "id": "ea3fbba8",
   "metadata": {},
   "outputs": [],
   "source": [
    "#import joblib\n",
    "#joblib_acceptance_p = \"acceptance_p_model1.pkl\"\n",
    "#joblib.dump(rf_clas, joblib_acceptance_p)"
   ]
  }
 ],
 "metadata": {
  "kernelspec": {
   "display_name": "Python 3 (ipykernel)",
   "language": "python",
   "name": "python3"
  },
  "language_info": {
   "codemirror_mode": {
    "name": "ipython",
    "version": 3
   },
   "file_extension": ".py",
   "mimetype": "text/x-python",
   "name": "python",
   "nbconvert_exporter": "python",
   "pygments_lexer": "ipython3",
   "version": "3.10.4"
  }
 },
 "nbformat": 4,
 "nbformat_minor": 5
}
